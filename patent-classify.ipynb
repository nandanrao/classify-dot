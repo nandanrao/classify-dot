{
 "cells": [
  {
   "cell_type": "code",
   "execution_count": 8,
   "metadata": {
    "autoscroll": false,
    "ein.hycell": false,
    "ein.tags": "worksheet-0",
    "slideshow": {
     "slide_type": "-"
    }
   },
   "outputs": [],
   "source": [
    "! pip install --quiet --upgrade scikit-learn\n",
    "! pip install --quiet fuzzywuzzy\n",
    "! pip install --quiet python-levenshtein\n",
    "! pip install --quiet diskcache\n",
    "! pip install --quiet lime\n",
    "! pip install --quiet torch\n",
    "! pip install --quiet gcsfs\n",
    "! pip install --quiet xxhash\n",
    "! pip install --upgrade numba\n",
    "! pip install -e 'git://github.com/nandanrao/embed-software.git#egg=embed_software'"
   ]
  },
  {
   "cell_type": "code",
   "execution_count": null,
   "metadata": {
    "autoscroll": false,
    "ein.hycell": false,
    "ein.tags": "worksheet-0",
    "slideshow": {
     "slide_type": "-"
    }
   },
   "outputs": [],
   "source": [
    "! pip install https://github.com/explosion/spacy-models/releases/download/en_core_web_lg-2.2.5/en_core_web_lg-2.2.5.tar.gz"
   ]
  },
  {
   "cell_type": "code",
   "execution_count": 278,
   "metadata": {
    "autoscroll": false,
    "ein.hycell": false,
    "ein.tags": "worksheet-0",
    "slideshow": {
     "slide_type": "-"
    }
   },
   "outputs": [],
   "source": [
    "! pip install --quiet spacy\n",
    "! python -m spacy download en_core_web_lg"
   ]
  },
  {
   "cell_type": "code",
   "execution_count": 1,
   "metadata": {
    "autoscroll": false,
    "ein.hycell": false,
    "ein.tags": "worksheet-0",
    "slideshow": {
     "slide_type": "-"
    }
   },
   "outputs": [],
   "source": [
    "%load_ext autoreload\n",
    "%autoreload 2\n",
    "\n",
    "import pandas as pd\n",
    "import numpy as np\n",
    "import re\n",
    "import attr\n",
    "from sklearn.pipeline import Pipeline\n",
    "from sklearn.metrics import accuracy_score\n",
    "\n",
    "from sklearn.feature_extraction.text import TfidfVectorizer\n",
    "from sklearn.linear_model import LogisticRegression\n",
    "from sklearn.neighbors import KNeighborsClassifier\n",
    "\n",
    "from validation.data import dot_train_data, get_soc_n, get_dictionary, indeed_test_data\n",
    "from embed_software.preprocess import *\n",
    "from embed_software.utils import get_embeddings, embed_docs\n",
    "from classification.embedding import PreEmbeddedVectorizer\n",
    "from validation.scoring import bubbleup_score, BubbleUpMixin\n",
    "\n",
    "pd.set_option('max_colwidth',50)\n",
    "pd.set_option('display.width', 700)\n",
    "\n",
    "import matplotlib.pyplot as plt\n",
    "plt.rcParams['figure.figsize'] = [15, 10]"
   ]
  },
  {
   "cell_type": "code",
   "execution_count": 2,
   "metadata": {
    "autoscroll": false,
    "ein.hycell": false,
    "ein.tags": "worksheet-0",
    "slideshow": {
     "slide_type": "-"
    }
   },
   "outputs": [],
   "source": [
    "SAMPLE_SIZE = 100000\n",
    "SOC_LEVEL = 6"
   ]
  },
  {
   "cell_type": "code",
   "execution_count": 79,
   "metadata": {
    "autoscroll": false,
    "ein.hycell": false,
    "ein.tags": "worksheet-0",
    "slideshow": {
     "slide_type": "-"
    }
   },
   "outputs": [],
   "source": [
    "X_train, y_train = dot_train_data(SOC_LEVEL, include_dot = False)"
   ]
  },
  {
   "cell_type": "code",
   "execution_count": 80,
   "metadata": {
    "autoscroll": false,
    "ein.hycell": false,
    "ein.tags": "worksheet-0",
    "slideshow": {
     "slide_type": "-"
    }
   },
   "outputs": [],
   "source": [
    "tasks = pd.read_csv('tasks.txt', sep='\\t')"
   ]
  },
  {
   "cell_type": "code",
   "execution_count": 81,
   "metadata": {
    "autoscroll": false,
    "ein.hycell": false,
    "ein.tags": "worksheet-0",
    "slideshow": {
     "slide_type": "-"
    }
   },
   "outputs": [
    {
     "data": {
      "text/plain": [
       "((19530,), (19530, 7))"
      ]
     },
     "execution_count": 81,
     "metadata": {},
     "output_type": "execute_result"
    }
   ],
   "source": [
    "X_train.shape, tasks.shape"
   ]
  },
  {
   "cell_type": "code",
   "execution_count": 5,
   "metadata": {
    "autoscroll": false,
    "ein.hycell": false,
    "ein.tags": "worksheet-0",
    "slideshow": {
     "slide_type": "-"
    }
   },
   "outputs": [],
   "source": [
    "class BubbleUpLogisticRegression(BubbleUpMixin, LogisticRegression):\n",
    "    pass\n",
    "\n",
    "model = Pipeline([\n",
    "    ('sentencespace_200_patent_descriptions', PreEmbeddedVectorizer('./patent-descriptions/models/sentencespace-200', cache_dir='patent-description-cache-dir', chunk_size=1000)),\n",
    "    ('lr', BubbleUpLogisticRegression(C=2., solver='lbfgs', class_weight='balanced', multi_class=\"multinomial\", n_jobs=-1).set_bubbles(3))\n",
    "])"
   ]
  },
  {
   "cell_type": "code",
   "execution_count": null,
   "metadata": {
    "autoscroll": false,
    "ein.hycell": false,
    "ein.tags": "worksheet-0",
    "slideshow": {
     "slide_type": "-"
    }
   },
   "outputs": [],
   "source": [
    "model.fit(X_train, y_train)"
   ]
  },
  {
   "cell_type": "code",
   "execution_count": null,
   "metadata": {
    "autoscroll": false,
    "ein.hycell": false,
    "ein.tags": "worksheet-0",
    "slideshow": {
     "slide_type": "-"
    }
   },
   "outputs": [],
   "source": [
    "mapping = pd.read_csv('./patent-descriptions/hbs_pat_ipc_mapping.csv', sep='\\t')"
   ]
  },
  {
   "cell_type": "code",
   "execution_count": 7,
   "metadata": {
    "autoscroll": false,
    "ein.hycell": false,
    "ein.tags": "worksheet-0",
    "slideshow": {
     "slide_type": "-"
    }
   },
   "outputs": [],
   "source": [
    "patent_ids = set(mapping.patent.values)"
   ]
  },
  {
   "cell_type": "code",
   "execution_count": 37,
   "metadata": {
    "autoscroll": false,
    "ein.hycell": false,
    "ein.tags": "worksheet-0",
    "slideshow": {
     "slide_type": "-"
    }
   },
   "outputs": [],
   "source": [
    "import csv\n",
    "from itertools import islice\n",
    "import sys\n",
    "from itertools import takewhile, islice, count\n",
    "from validation.scoring import get_top_soc_n_preds, get_soc_n_preds, make_code_lookup\n",
    "\n",
    "csv.field_size_limit(sys.maxsize)\n",
    "\n",
    "def chunk(n, it):\n",
    "    src = iter(it)\n",
    "    return takewhile(bool, (list(islice(src, n)) for _ in count(0)))\n",
    "\n",
    "def cast(i):\n",
    "    try: \n",
    "        return int(i)\n",
    "    except ValueError:\n",
    "        return i\n",
    "\n",
    "def format_preds(d, socs, probs):\n",
    "    a,b = [(pd.DataFrame(df) \n",
    "            .assign(idx = d.id) \n",
    "            .melt(id_vars = ['idx'], value_name = key) \n",
    "            .drop(columns = 'variable')\n",
    "            .sort_values('idx')\n",
    "            .reset_index(drop=True)\n",
    "            .set_index('idx'))\n",
    "           for df,key in [(socs, 'soc'), (probs, 'prob')]]\n",
    "\n",
    "    df = pd.concat([a,b], 1).reset_index().rename(columns = {'idx': 'patent'})\n",
    "    return df\n",
    "\n",
    "def make_predictions(model, mapping, lines):\n",
    "    d = pd.DataFrame(lines, columns = ['id', 'description'])\n",
    "    preds = model.predict_proba(d.description)\n",
    "    preds_df = pd.DataFrame(preds)\n",
    "    preds_df.columns = model.classes_    \n",
    "    preds_socs, preds_probs = get_top_soc_n_preds(preds_df, 3, 5, True)    \n",
    "    return mapping.merge(format_preds(d, preds_socs, preds_probs), how = 'inner', on = 'patent')\n",
    "\n"
   ]
  },
  {
   "cell_type": "code",
   "execution_count": 117,
   "metadata": {
    "autoscroll": false,
    "ein.hycell": false,
    "ein.tags": "worksheet-0",
    "slideshow": {
     "slide_type": "-"
    }
   },
   "outputs": [],
   "source": [
    "vectorizer = PreEmbeddedVectorizer('../abstracts-ss-100', cache_dir='patent-abstracts-cache-dir', chunk_size=500)"
   ]
  },
  {
   "cell_type": "code",
   "execution_count": 53,
   "metadata": {
    "autoscroll": false,
    "ein.hycell": false,
    "ein.tags": "worksheet-0",
    "slideshow": {
     "slide_type": "-"
    }
   },
   "outputs": [],
   "source": [
    "from joblib import Parallel, delayed\n",
    "\n",
    "with open('patent-descriptions/processed/details.csv') as f:\n",
    "    reader = csv.reader(f)\n",
    "    lines = ([cast(l[0]), l[1]] for l in reader)\n",
    "    lines = (l for l in lines if l[0] in patent_ids)\n",
    "    lines = chunk(100000, lines)    \n",
    "    pred_dfs = [make_predictions(model, mapping, list(c)) for c in lines]\n",
    "\n",
    "    # pred_dfs = Parallel(n_jobs = -1)(delayed(make_predictions)(model, mapping, list(c)) for c in lines)"
   ]
  },
  {
   "cell_type": "code",
   "execution_count": 54,
   "metadata": {
    "autoscroll": false,
    "ein.hycell": false,
    "ein.tags": "worksheet-0",
    "slideshow": {
     "slide_type": "-"
    }
   },
   "outputs": [],
   "source": [
    "all_preds = pd.concat(pred_dfs)"
   ]
  },
  {
   "cell_type": "code",
   "execution_count": 55,
   "metadata": {
    "autoscroll": false,
    "ein.hycell": false,
    "ein.tags": "worksheet-0",
    "slideshow": {
     "slide_type": "-"
    }
   },
   "outputs": [],
   "source": [
    "all_preds.to_csv('patent-descriptions/patent-preds-all.csv', index = False)"
   ]
  },
  {
   "cell_type": "markdown",
   "metadata": {
    "ein.tags": "worksheet-0",
    "slideshow": {
     "slide_type": "-"
    }
   },
   "source": [
    "# ABSTRACTS - NEAREST SENTENCE"
   ]
  },
  {
   "cell_type": "code",
   "execution_count": 5,
   "metadata": {
    "autoscroll": false,
    "ein.hycell": false,
    "ein.tags": "worksheet-0",
    "slideshow": {
     "slide_type": "-"
    }
   },
   "outputs": [],
   "source": [
    "import json\n",
    "from itertools import islice\n",
    "from json import JSONDecodeError\n",
    "\n",
    "def loads(l):\n",
    "    try:\n",
    "        return json.loads(l)\n",
    "    except JSONDecodeError:\n",
    "        return { 'id': None }\n",
    "\n",
    "with open('../abstracts') as f:\n",
    "    dat = ((i, loads(l)) for i,l in enumerate(f) if i != 0)\n",
    "    dat = ((d['id'], d.get('abstract')) for i,d in dat)\n",
    "    dat = list(dat)"
   ]
  },
  {
   "cell_type": "code",
   "execution_count": 35,
   "metadata": {
    "autoscroll": false,
    "ein.hycell": false,
    "ein.tags": "worksheet-0",
    "slideshow": {
     "slide_type": "-"
    }
   },
   "outputs": [],
   "source": [
    "from joblib import Parallel, delayed\n",
    "from embed_software.preprocess import claims_processor, readme_processor, Preprocessor, tokenizer\n",
    "\n",
    "\n",
    "sentence = re.compile(r\"\\.\\s+\")\n",
    "\n",
    "def tokenize(p, min_tokens):\n",
    "    li_tokens = tokenizer(p)\n",
    "    if len(li_tokens) < min_tokens:\n",
    "        return None\n",
    "    return ' '.join(li_tokens)  \n",
    "    \n",
    "\n",
    "def preprocessor(og, min_tokens = 3):\n",
    "    sents = sentence.split(og)\n",
    "    sents = [(s.strip(), claims_processor(s, numbers=True)) for s in sents]\n",
    "    \n",
    "    sents = [(s, tokenize(p, min_tokens)) for s,p in sents]\n",
    "    sents = [(s, p) for s,p in sents if p is not None]\n",
    "    originals, processed = zip(*sents)\n",
    "\n",
    "    # each a list of strings.\n",
    "    return originals, processed\n",
    "\n",
    "def process(preprocessor, i, text):\n",
    "    if text is None:\n",
    "        return (i, text, text)\n",
    "\n",
    "    originals, processed = preprocessor(text)\n",
    "    return (i, originals, processed)\n",
    "\n",
    "def process_abstracts_chunk(preprocessor, dat):\n",
    "    processed = [process(preprocessor, i, t) for i,t in dat]\n",
    "    return [(i,og,p) for i,og,p in processed if p]\n",
    "\n",
    "def process_abstracts(preprocessor, dat, chunks = 32):\n",
    "    chunks = np.array_split(dat, chunks)\n",
    "    processed = Parallel(n_jobs=-1)(delayed(process_abstracts_chunk)(preprocessor, c) for c in chunks)\n",
    "    return [y for x in processed for y in x]"
   ]
  },
  {
   "cell_type": "code",
   "execution_count": null,
   "metadata": {
    "autoscroll": false,
    "ein.hycell": false,
    "ein.tags": "worksheet-0",
    "slideshow": {
     "slide_type": "-"
    }
   },
   "outputs": [],
   "source": [
    "# Filter dat by sample!\n",
    "\n",
    "mapping = pd.read_csv('./patent-descriptions/hbs_pat_ipc_mapping.csv', sep='\\t')\n",
    "mapping['patent'] = mapping.patent.astype(str)"
   ]
  },
  {
   "cell_type": "code",
   "execution_count": 8,
   "metadata": {
    "autoscroll": false,
    "ein.hycell": false,
    "ein.tags": "worksheet-0",
    "slideshow": {
     "slide_type": "-"
    }
   },
   "outputs": [],
   "source": [
    "def count_sents(a):\n",
    "    try: \n",
    "        return len(a.split('. '))\n",
    "    except AttributeError:\n",
    "        return 0\n",
    "\n",
    "def is_cutoff(a):\n",
    "    return a[-1] != '.' if a else True\n",
    "\n",
    "patents = pd.DataFrame(dat, columns=['patent', 'abstract']) \\\n",
    "            .drop_duplicates('patent') \\\n",
    "            .merge(mapping, on='patent', how='inner') \\\n",
    "            .pipe(lambda df: df.assign(num_sents = df.abstract.map(count_sents))) \\\n",
    "            .pipe(lambda df: df.assign(cutoff = df.abstract.map(is_cutoff)))"
   ]
  },
  {
   "cell_type": "code",
   "execution_count": 9,
   "metadata": {
    "autoscroll": false,
    "ein.hycell": false,
    "ein.tags": "worksheet-0",
    "slideshow": {
     "slide_type": "-"
    }
   },
   "outputs": [],
   "source": [
    "sampled_patents = patents[(patents.appyear < 2007) & \n",
    "                          (patents.appyear > 1973) & \n",
    "                          (patents.num_sents <= 10) &\n",
    "                          (patents.cutoff == False) ] \\\n",
    "                          .groupby(['class', 'appyear']) \\\n",
    "                          .apply(lambda df: df.sample(5) if df.shape[0] > 5 else None) \\\n",
    "                          .reset_index(drop = True)"
   ]
  },
  {
   "cell_type": "code",
   "execution_count": 48,
   "metadata": {
    "autoscroll": false,
    "ein.hycell": false,
    "ein.tags": "worksheet-0",
    "slideshow": {
     "slide_type": "-"
    }
   },
   "outputs": [],
   "source": [
    "\n",
    "# get original sentences\n",
    "# limit to first 5 sentences\n",
    "\n",
    "dat = [(r.patent, r.abstract) for i,r in sampled_patents.iterrows()]"
   ]
  },
  {
   "cell_type": "code",
   "execution_count": 49,
   "metadata": {
    "autoscroll": false,
    "ein.hycell": false,
    "ein.tags": "worksheet-0",
    "slideshow": {
     "slide_type": "-"
    }
   },
   "outputs": [
    {
     "name": "stdout",
     "output_type": "stream",
     "text": [
      "CPU times: user 312 ms, sys: 352 ms, total: 664 ms\n",
      "Wall time: 709 ms\n"
     ]
    }
   ],
   "source": [
    "%%time\n",
    "\n",
    "lines = process_abstracts(preprocessor, dat, 32)\n",
    "lines = [(i,ogg,pp) for i,og,p in lines for ogg,pp in zip(og, p)]"
   ]
  },
  {
   "cell_type": "code",
   "execution_count": 51,
   "metadata": {
    "autoscroll": false,
    "ein.hycell": false,
    "ein.tags": "worksheet-0",
    "slideshow": {
     "slide_type": "-"
    }
   },
   "outputs": [],
   "source": [
    "ids, ogs, sents = zip(*lines)\n",
    "ids, ogs, sents = pd.Series(ids), pd.Series(ogs), pd.Series(sents)"
   ]
  },
  {
   "cell_type": "code",
   "execution_count": 52,
   "metadata": {
    "autoscroll": false,
    "ein.hycell": false,
    "ein.tags": "worksheet-0",
    "slideshow": {
     "slide_type": "-"
    }
   },
   "outputs": [
    {
     "name": "stdout",
     "output_type": "stream",
     "text": [
      "CPU times: user 5.66 s, sys: 84 ms, total: 5.74 s\n",
      "Wall time: 6.23 s\n"
     ]
    }
   ],
   "source": [
    "%%time\n",
    "\n",
    "from classification.embedding import WordEmbeddingVectorizer\n",
    "\n",
    "vectorizer = WordEmbeddingVectorizer('../abstracts-ss-100.tsv', sep = '\\t', cache_dir=None, chunk_size=1000, max_workers = 1)\n",
    "\n",
    "embedded_tasks = vectorizer.fit_transform(X_train)\n",
    "\n",
    "embedded_sents = vectorizer.fit_transform(sents)"
   ]
  },
  {
   "cell_type": "code",
   "execution_count": 53,
   "metadata": {
    "autoscroll": false,
    "ein.hycell": false,
    "ein.tags": "worksheet-0",
    "slideshow": {
     "slide_type": "-"
    }
   },
   "outputs": [],
   "source": [
    "from numba import njit\n",
    "\n",
    "@njit(parallel=True)\n",
    "def get_nearest(embedded_tasks, embedded_sents, K = 1):\n",
    "    N = embedded_sents.shape[0]\n",
    "    A,D = np.zeros((N, K)), np.zeros((N, K))\n",
    "    for i in np.arange(N):\n",
    "        sim = embedded_tasks.dot(embedded_sents[i])\n",
    "        top_idxs = np.argsort(sim)[-K:]\n",
    "        for j,k in enumerate(top_idxs):\n",
    "            A[i,j] = k\n",
    "            D[i,j] = sim[k]\n",
    "    return A,D"
   ]
  },
  {
   "cell_type": "code",
   "execution_count": 54,
   "metadata": {
    "autoscroll": false,
    "ein.hycell": false,
    "ein.tags": "worksheet-0",
    "slideshow": {
     "slide_type": "-"
    }
   },
   "outputs": [
    {
     "name": "stdout",
     "output_type": "stream",
     "text": [
      "CPU times: user 21min 59s, sys: 1h 1min 28s, total: 1h 23min 28s\n",
      "Wall time: 2min 39s\n"
     ]
    }
   ],
   "source": [
    "%%time\n",
    "\n",
    "A,D = get_nearest(embedded_tasks, embedded_sents, 8)"
   ]
  },
  {
   "cell_type": "code",
   "execution_count": 55,
   "metadata": {
    "autoscroll": false,
    "ein.hycell": false,
    "ein.tags": "worksheet-0",
    "slideshow": {
     "slide_type": "-"
    }
   },
   "outputs": [
    {
     "data": {
      "text/plain": [
       "7495"
      ]
     },
     "execution_count": 55,
     "metadata": {},
     "output_type": "execute_result"
    }
   ],
   "source": [
    "close_idx = (D > .60)\n",
    "\n",
    "close_idx.sum()"
   ]
  },
  {
   "cell_type": "code",
   "execution_count": 56,
   "metadata": {
    "autoscroll": false,
    "ein.hycell": false,
    "ein.tags": "worksheet-0",
    "slideshow": {
     "slide_type": "-"
    }
   },
   "outputs": [
    {
     "data": {
      "text/plain": [
       "68714"
      ]
     },
     "execution_count": 56,
     "metadata": {},
     "output_type": "execute_result"
    }
   ],
   "source": [
    "far_idx = (D < .35)\n",
    "\n",
    "far_idx.sum()"
   ]
  },
  {
   "cell_type": "code",
   "execution_count": 57,
   "metadata": {
    "autoscroll": false,
    "ein.hycell": false,
    "ein.tags": "worksheet-0",
    "slideshow": {
     "slide_type": "-"
    }
   },
   "outputs": [
    {
     "data": {
      "text/plain": [
       "363048"
      ]
     },
     "execution_count": 57,
     "metadata": {},
     "output_type": "execute_result"
    }
   ],
   "source": [
    "all_idx = D <= 1.0\n",
    "\n",
    "all_idx.sum()"
   ]
  },
  {
   "cell_type": "code",
   "execution_count": 94,
   "metadata": {
    "autoscroll": false,
    "ein.hycell": false,
    "ein.tags": "worksheet-0",
    "slideshow": {
     "slide_type": "-"
    }
   },
   "outputs": [],
   "source": [
    "def make_results(idx, include_sents = True):\n",
    "    ii = np.argwhere(idx)[:, 0].flatten()\n",
    "    df = pd.DataFrame({\n",
    "        'patent_id': ids.iloc[ii].values,\n",
    "        'task_id': tasks.loc[A[idx]]['Task ID'].values,\n",
    "        'task_soc': y_train[A[idx]].values,\n",
    "        'distance': 1 - D[idx],\n",
    "        'sent_id': sents.iloc[ii].index.values\n",
    "    })\n",
    "    if include_sents:\n",
    "        df['abstract_sentence'] = ogs.iloc[ii].values\n",
    "        df['task_sentence'] = tasks.loc[A[idx], 'Task'].values\n",
    "    return df"
   ]
  },
  {
   "cell_type": "code",
   "execution_count": 189,
   "metadata": {
    "autoscroll": false,
    "ein.hycell": false,
    "ein.tags": "worksheet-0",
    "slideshow": {
     "slide_type": "-"
    }
   },
   "outputs": [],
   "source": [
    "make_results(close_idx).to_csv('patent-neighbors/week1/close_matches.csv', index=False)"
   ]
  },
  {
   "cell_type": "code",
   "execution_count": 190,
   "metadata": {
    "autoscroll": false,
    "ein.hycell": false,
    "ein.tags": "worksheet-0",
    "slideshow": {
     "slide_type": "-"
    }
   },
   "outputs": [],
   "source": [
    "make_results(far_idx).to_csv('patent-neighbors/week1/far_matches.csv', index=False)"
   ]
  },
  {
   "cell_type": "code",
   "execution_count": 191,
   "metadata": {
    "autoscroll": false,
    "ein.hycell": false,
    "ein.tags": "worksheet-0",
    "slideshow": {
     "slide_type": "-"
    }
   },
   "outputs": [],
   "source": [
    "make_results(all_idx, False).to_csv('patent-neighbors/week1/all_matches_no_sent.csv', index=False)"
   ]
  },
  {
   "cell_type": "code",
   "execution_count": 193,
   "metadata": {
    "autoscroll": false,
    "ein.hycell": false,
    "ein.tags": "worksheet-0",
    "slideshow": {
     "slide_type": "-"
    }
   },
   "outputs": [],
   "source": [
    "make_results(close_idx).sort_values('distance').head(5000).to_csv('patent-neighbors/week1/super_close_matches.csv', index=False)"
   ]
  },
  {
   "cell_type": "code",
   "execution_count": 196,
   "metadata": {
    "autoscroll": false,
    "ein.hycell": false,
    "ein.tags": "worksheet-0",
    "slideshow": {
     "slide_type": "-"
    }
   },
   "outputs": [],
   "source": [
    "make_results(far_idx).sort_values('distance', ascending=False).head(5000).to_csv('patent-neighbors/week1/super_far_matches.csv', index=False)"
   ]
  },
  {
   "cell_type": "markdown",
   "metadata": {
    "ein.tags": "worksheet-0",
    "slideshow": {
     "slide_type": "-"
    }
   },
   "source": [
    "# Selecting for MTurk"
   ]
  },
  {
   "cell_type": "code",
   "execution_count": 161,
   "metadata": {
    "autoscroll": false,
    "ein.hycell": false,
    "ein.tags": "worksheet-0",
    "slideshow": {
     "slide_type": "-"
    }
   },
   "outputs": [
    {
     "ename": "AttributeError",
     "evalue": "'tuple' object has no attribute 'drop_duplicates'",
     "output_type": "error",
     "traceback": [
      "\u001b[0;31m---------------------------------------------------------------------------\u001b[0m",
      "\u001b[0;31mAttributeError\u001b[0m                            Traceback (most recent call last)",
      "\u001b[0;32m<timed exec>\u001b[0m in \u001b[0;36m<module>\u001b[0;34m\u001b[0m\n",
      "\u001b[0;31mAttributeError\u001b[0m: 'tuple' object has no attribute 'drop_duplicates'"
     ]
    }
   ],
   "source": [
    "%%time\n",
    "\n",
    "from toolz import curry\n",
    "\n",
    "@curry\n",
    "def add_nested_local_id(nested, name, df):\n",
    "    lookup = { s:i+1 for i,s in \n",
    "               enumerate(df[nested].unique()) }\n",
    "\n",
    "    df[name] = df[nested].map(lookup)\n",
    "    return df\n",
    "\n",
    "@curry\n",
    "def add_local_id(name, df, randomize=True):\n",
    "    idx = np.arange(df.shape[0]) + 1\n",
    "    if randomize:\n",
    "        np.random.shuffle(idx)\n",
    "    return df.assign(**{name: idx}).sort_values(name)\n",
    "\n",
    "results = make_results(all_idx)\n",
    "\n",
    "\n",
    "\n",
    "\n",
    "patents = pd.DataFrame(dat, columns = ['patent_id', 'abstract']) \\\n",
    "            .pipe(lambda df: df.assign(abstract = df.abstract.map(lambda a: ' '.join(a.split()).strip()))) \\\n",
    "            .merge(mapping, left_on='patent_id', right_on='patent')[['patent_id', 'abstract', 'appyear']] \\\n",
    "            .rename(columns = {'appyear': 'year'})\n",
    "\n",
    "ided = results[['patent_id', 'sent_id', 'abstract_sentence', \n",
    "                'task_id', 'distance', 'task_sentence']] \\\n",
    "    .groupby(['patent_id']) \\\n",
    "    .apply(add_nested_local_id('sent_id', 'sent_index')) \\\n",
    "    .reset_index(drop=True)\n",
    "\n",
    "# Take only first 5 sentences\n",
    "ided = ided[ided.sent_index <= 5].shape\n",
    "\n",
    "sentences = ided.drop_duplicates('sent_id') \\\n",
    "                .drop(columns = ['task_id', 'distance', 'task_sentence', 'sent_id'])\n",
    "\n",
    "mturk_tasks = ided \\\n",
    "    .groupby(['patent_id', 'sent_index']) \\\n",
    "    .apply(add_local_id('task_index')) \\\n",
    "    .reset_index(drop=True) \\\n",
    "    .drop(columns = ['abstract_sentence', 'task_id', 'sent_id'])"
   ]
  },
  {
   "cell_type": "code",
   "execution_count": 162,
   "metadata": {
    "autoscroll": false,
    "ein.hycell": false,
    "ein.tags": "worksheet-0",
    "slideshow": {
     "slide_type": "-"
    }
   },
   "outputs": [],
   "source": [
    "def assign_workers(patents, num_workers, per_worker):\n",
    "    workers = [x for i in np.arange(num_workers) for x in [i+1]*per_worker]\n",
    "    out = []\n",
    "    vals = patents.values.tolist()\n",
    "    curr_vals = vals.copy()\n",
    "    for worker in workers:\n",
    "        curr_vals = curr_vals if len(curr_vals) > 0 else vals.copy()\n",
    "        out.append((worker, curr_vals.pop()))\n",
    "    return pd.DataFrame(out, columns = ['worker_id', 'patent_id'])"
   ]
  },
  {
   "cell_type": "code",
   "execution_count": 163,
   "metadata": {
    "autoscroll": false,
    "ein.hycell": false,
    "ein.tags": "worksheet-0",
    "slideshow": {
     "slide_type": "-"
    }
   },
   "outputs": [],
   "source": [
    "small_sample_patents = patents.merge(mapping, left_on='patent_id', right_on='patent') \\\n",
    "                              .groupby('class') \\\n",
    "                              .apply(lambda df: df.sample(2)) \\\n",
    "                              .reset_index(drop=True) \\\n",
    "                              .sample(133).patent_id\n",
    "\n",
    "workers = assign_workers(small_sample_patents, 40, 10)"
   ]
  },
  {
   "cell_type": "code",
   "execution_count": 166,
   "metadata": {
    "autoscroll": false,
    "ein.hycell": false,
    "ein.tags": "worksheet-0",
    "slideshow": {
     "slide_type": "-"
    }
   },
   "outputs": [],
   "source": [
    "patents.to_csv('mturk-data/abstracts.csv', index=False)\n",
    "sentences.to_csv('mturk-data/sentences.csv', index=False)\n",
    "mturk_tasks.to_csv('mturk-data/tasks.csv', index=False)\n",
    "workers.to_csv('mturk-data/workers.csv', index=False)"
   ]
  },
  {
   "cell_type": "code",
   "execution_count": 197,
   "metadata": {
    "autoscroll": false,
    "ein.hycell": false,
    "ein.tags": "worksheet-0",
    "slideshow": {
     "slide_type": "-"
    }
   },
   "outputs": [],
   "source": [
    "import spacy\n",
    "nlp = spacy.load('en_core_web_lg')\n",
    "\n",
    "results = pd.read_csv('patent-neighbors/week0/abstracts-neighbor-results.csv')"
   ]
  },
  {
   "cell_type": "code",
   "execution_count": 19,
   "metadata": {
    "autoscroll": false,
    "ein.hycell": false,
    "ein.tags": "worksheet-0",
    "slideshow": {
     "slide_type": "-"
    }
   },
   "outputs": [],
   "source": [
    "i = 7\n",
    "\n",
    "def get_subj(sent):\n",
    "    subjs = [t for t in nlp(sent) \n",
    "             if t.dep_ == 'nsubj']\n",
    "    words = [str(s) for s in subjs]\n",
    "    subj = ','.join(words) if words else None\n",
    "    return subj\n",
    "\n",
    "results = results.assign(subj = [get_subj(sent) for sent in results.abstract_sentence])"
   ]
  },
  {
   "cell_type": "code",
   "execution_count": 21,
   "metadata": {
    "autoscroll": false,
    "ein.hycell": false,
    "ein.tags": "worksheet-0",
    "slideshow": {
     "slide_type": "-"
    }
   },
   "outputs": [],
   "source": [
    "results.to_csv('abstracts-neighbor-sample.csv', index=False)"
   ]
  },
  {
   "cell_type": "code",
   "execution_count": null,
   "metadata": {
    "autoscroll": false,
    "ein.hycell": false,
    "ein.tags": "worksheet-0",
    "slideshow": {
     "slide_type": "-"
    }
   },
   "outputs": [],
   "source": [
    "model = Pipeline([('sentencespace_100_us', PreEmbeddedVectorizer('../abstracts-ss-100', 100, cache_dir='embed_cache')),\n",
    "                  ('knn', KNeighborsClassifier(1, n_jobs=-1))])\n",
    "\n",
    "model.fit(X_train, y_train)"
   ]
  },
  {
   "cell_type": "code",
   "execution_count": 8,
   "metadata": {
    "autoscroll": false,
    "ein.hycell": false,
    "ein.tags": "worksheet-0",
    "slideshow": {
     "slide_type": "-"
    }
   },
   "outputs": [],
   "source": [
    "def _get_soc_n(df, n):\n",
    "    return (df.T\n",
    "            .reset_index()\n",
    "            .pipe(lambda df: df.assign(soc = df['index'].map(lambda i: str(i)[0:n])))\n",
    "            .set_index('soc')\n",
    "            .drop('index', 1)\n",
    "            .groupby('soc').sum().T)\n",
    "\n",
    "\n",
    "def get_pred(model, X):\n",
    "    vals = model.predict_proba(X)\n",
    "    df = pd.DataFrame(vals)\n",
    "    df.columns = model.classes_\n",
    "    n=3\n",
    "    return _get_soc_n(df, n)\n",
    "\n",
    "class UpscaleModel(LogisticRegression):\n",
    "    def predict_soc_n(self, X, n):\n",
    "        preds = self.predict_proba(X)\n",
    "        df = pd.DataFrame(preds)\n",
    "        df.columns = labels\n",
    "        return self._get_soc_n(df, n)\n",
    "    \n",
    "    \n",
    "def make_title_lookup(path, N):\n",
    "    dot_codes = get_dictionary('', N).groupby('soc').first()\n",
    "    d = dot_codes[f'desc_soc{N}'].to_dict()\n",
    "    def lookup(code):\n",
    "        try:\n",
    "            return d[int(code)]\n",
    "        except KeyError:\n",
    "            return code\n",
    "    return lookup"
   ]
  },
  {
   "cell_type": "code",
   "execution_count": 46,
   "metadata": {
    "autoscroll": false,
    "ein.hycell": false,
    "ein.tags": "worksheet-0",
    "slideshow": {
     "slide_type": "-"
    }
   },
   "outputs": [],
   "source": [
    "labels = np.unique(y_train)\n",
    "lookup = make_title_lookup('', 3)\n",
    "\n",
    "def get_soc_n(df, n):\n",
    "    return (df.T\n",
    "            .reset_index()\n",
    "            .pipe(lambda df: df.assign(soc = df['index'].map(lambda i: str(i)[0:n])))\n",
    "            .set_index('soc')\n",
    "            .drop('index', 1)\n",
    "            .groupby('soc')\n",
    "            .sum().T\n",
    "            .idxmax(1))"
   ]
  },
  {
   "cell_type": "code",
   "execution_count": 55,
   "metadata": {
    "autoscroll": false,
    "ein.hycell": false,
    "ein.tags": "worksheet-0",
    "slideshow": {
     "slide_type": "-"
    }
   },
   "outputs": [],
   "source": [
    "def print_preds(model, labels, target):\n",
    "    preds = model.predict_proba(target)\n",
    "    df = pd.DataFrame(preds)\n",
    "    df.columns = labels\n",
    "\n",
    "    res = [(lookup(cl),li) for cl,li in zip(get_soc_n(df, 3).values, target)]\n",
    "\n",
    "    for title, desc in res:\n",
    "        print(title)\n",
    "        print(desc)\n",
    "        print('\\n')"
   ]
  },
  {
   "cell_type": "code",
   "execution_count": 104,
   "metadata": {
    "autoscroll": false,
    "ein.hycell": false,
    "ein.tags": "worksheet-0",
    "slideshow": {
     "slide_type": "-"
    }
   },
   "outputs": [
    {
     "name": "stdout",
     "output_type": "stream",
     "text": [
      "Material Moving Workers\n",
      "flexible longitudinally continuous tape construction is disclosed for use in joining mating edges of juxtaposed members the tape having an like configuration transversely of its length to provide legs adapted to receive and be secured to the edges of the members to be joined\tthe tape is capable of serving as pliable hinge to permit articulation of the joined members or it may also serve simply as binding for joining members intended to be fixed relative to each other\tthe tape construction combines longitudinally continuous marginal web portions or carriers forming the extremities of the legs of the with longitudinally spaced strand or equivalent connector means running crosswise of and interconnecting pairs of marginal web portions\tthe connector means intersect and interlock forming the axis of the like configuration\n",
      "\n",
      "\n",
      "Food Processing Workers\n",
      "method of preserving perishable products\tthe method of packaging perishable products in container and insuring preservation of the products while in the container which method consists in permanently sealing the opening of the container after the product is packaged thereafter forcing an inert fluid to expel the air from the container through port entry and exhaust then sealing the port entry and exhaust while in the process of purging thus trapping the inert fluid in the container\n",
      "\n",
      "\n",
      "Other Production Occupations\n",
      "an improvement in tampon for absorbing menstrual fluids in which capillary wick of non absorbing material extends into the interior body of the tampon\tthe wick acts as capillary transport to carry fluids to the core of the tampon body thus using the absorptive capacity of the unexposed cotton\n",
      "\n",
      "\n",
      "Motor Vehicle Operators\n",
      "removable vehicle chassis sub frame with engine\theavy duty motor vehicle has main frame with forward axle and steerable ground wheels\tpower unit sub frame carrying rear axle is releasably secured to the main frame and includes an engine assembly which is located at an intermediate position between the axles\tthe unit may also include fifth wheel assembly whereby it becomes towing vehicle for further trailer unit or units\n",
      "\n",
      "\n",
      "Other Production Occupations\n",
      "lock for height adjustable crib or playpen requires two distinct manual operations in order to release the lock on each crib leg\teach lock includes rigid metal bracket which engages around the extensible part of the leg and is pivotally connected to crib corner post\tthe bracket has nose which projects into one of series of openings in the extensible part of the leg then the bracket is swung against the leg part to prevent movement of the leg part relative to the post\tthe upper edge of the bracket is slotted to receive latch pivotally connected to the corner post just above the bracket\tthe latch drops into the slot when the nose is engaged in one of the openings so that the bracket cannot be moved\n",
      "\n",
      "\n",
      "Rail Transportation Workers\n",
      "bed safety side rail arrangement\tbed safety side rail arrangement which includes two opposite articulated side rail assemblies selectively pivotally movable from an upper safety position to lowered position as for patient transfer and handling and or bedmaking tasks\tthe opposite side rail assemblies are readily removably secured to opposite sides of bed and desired structural rigidity is provided through the medium of tubular cross members or cross member assemblies which engage the side rail assemblies at their respective pivot connections\n",
      "\n",
      "\n",
      "Construction Trades Workers\n",
      "assembly for use in recreational activities\tthe assembly includes longitudinal axis and opposite end surfaces transverse to the longitudinal axis\tthe container has structure effective to receive both liquids and gas mediums therein and has valves for introducing and exhausting both liquid and gas mediums\tan elongated frame structure has plurality of parallel linear support members wherein each support member is laterally spaced with respect to any other lateral support member and separate end frame portion connected at each end of the support members to form an open structural configuration for receiving the collapsible container\tthe elongated container is fastened to the frame structure with the longitudinal axis thereof disposed substantially parallel to the linear support members and each of the end surfaces of the container being disposed adjacent an end frame portion to support the container within the frame structure during use\tthe container is attached to the frame structure with one of the linear support members extending longitudinally along one side of the container with the opposing side of the container being free of support member\tthe assembly may be used as pontoon when the container is inflated with gas fluid medium and is employable in other uses such as fresh water reservoir ballast sea anchor pitch and roll stabilizer and the like when the container is not inflated or holdls liquid fluid medium\n",
      "\n",
      "\n",
      "Other Production Occupations\n",
      "method of fabricating slipper\tnovel slipper and its method of fabrication is described\tthe slipper comprises substantially flat sole member with die cut bounding edges onto which is heat sealed an overlying arc shaped vamp\tthe novel method is characterized by pre tacking vamps at predetermined locations to sole web and substantially simultaneously heat sealing each vamp to sole and die cutting the bonded sole and vamp from the sole web\n",
      "\n",
      "\n",
      "Entertainers and Performers, Sports and Related Workers\n",
      "wheel spinning and vehicle conveying apparatus for automatic wheel washers\tan automobile conveyor for use in conjunction with wheel spinning device for an automatic wheel washer including an endless chain having plurality of selectively engageable dogs pivotally secured thereto\tthe dogs normally travel in position to urge an auto through the washer whereat the outboard end is in close association with the chain and beneath the automobile first supporting surface\toperating means are included whereby when an automobile is in position at least one of the dogs will be automatically moved to position where the dog extends above the automobile supporting surface contacts wheel and urges the car through the washer apparatus\tat the wheel spinning and washing station the chain is forced downwardly to position whereat it passes beneath the mechanism necessary to perform the wheel spinning operation while still retaining the outboard end of the dog above the automobile supporting surface\tthe continual contact by the dog assures that the automobile moves through the washer apparatus in continuous motion\n",
      "\n",
      "\n",
      "Other Production Occupations\n",
      "paintbrush and guard attachment for edging\tdevice for removable attachment to paintbrush to assist in cutting in one flat surface to another is disclosed\tit is formed of flat metal sheet cut to configuration having central portion with foot depending from one end thereof and pair of bendable arms extending laterally therefrom\tthe arms can be bent to plane normal to the plane of the central portion to engage the opposite sides of the handle of paintbrush and the foot portion acts as guide and shield against unintentional smearing\n",
      "\n",
      "\n",
      "Other Production Occupations\n",
      "rubber windshield wiper blades having increased flexibility at clamping points\trubber windshield wiper blade is clamped to rocker arms at several points along its length\tthe sides of the blade are formed with cavities at locations corresponding to the locations of the clamps so as to permit flexure of the blade without hindrance from the clamps\n",
      "\n",
      "\n",
      "Other Production Occupations\n",
      "bottle insert for product container\tleaks are precluded in product containers with the bottle insert by structuring rim thereon for establishing an inclined sealing interface\tdiaphragm is structured within the bottle insert to provide either cylindrical or noncylindrical wipe over the particular type of applicator tip selected for use in the product container\tfurthermore provisions are incorporated within the bottle insert to block passage through the wiping diaphragm of misaligned comb type applicator tips and these provisions are made self aligning for such tips with minor structural modification\n",
      "\n",
      "\n",
      "Textile, Apparel, and Furnishings Workers\n",
      "floor cleaning machine constructed as carriage equipped with pole and having at least one motor driven cleaning implement or tool rotating about vertical axis and for wet cleaning the floor or the like\tfrom fresh water supply per unit of time there flows out regulatable quantity of fresh water to which there is added cleaning agent this mixture flowing out at the region of the cleaning implement or tool\tthe machine works the floor or the like with the fresh water cleaning agent mixture by means of the cleaning implement and the thus resulting soiled water is sucked up from the floor and collected in separate soiled water container\tthe fresh water container which supplies the fresh water is formed by part of the machine housing body whereas the soiled water container is constituted by separate portable container which when assuming its working position is enclosed in the machine housing\tthis soiled water container is connected via seal to the suction compartment of suction blower and is protected from over filling by means of an automatically operating level limiting device\tfurther means are provided to ensure that the water of the mixture of air and soiled water which enters the machine does not contact the suction blower and also prevent the splashing water of the soiled water container which may splash around during movement of the machine from entering the suction blower\n",
      "\n",
      "\n",
      "Food Processing Workers\n",
      "machine for processing the backs of poultry\tmachine designed to remove skin from the backs of poultry automatically and mechanically by conveying the back carcass members sequentially through machine having processing stations operable in sequence to sever the kidney retaining membranes and remove the kidneys by vacuum position the tail for mechanical maceration and removal by set of coarse intermeshing rotating helical gear members and macerate and remove the skin from the back carcass member by second set of intermeshing rotating helical gears of finer pitch than the first set followed by the back carcass members free of skin are discharged to collection receptacle\n",
      "\n",
      "\n",
      "Other Production Occupations\n",
      "machine for removing skin from pieces of poultry\tpoultry processing machine adapted to remove skin from certain parts of poultry such as necks thighs and breasts by arranging the same for passage along substantially uniformly diminishing channel defined by the upper portions of pair of rollers having spiral configurations thereon guiding and feeding the pieces of poultry longitudinally along said channel and the spiral configuration on the rolls engaging the skin on said pieces in manner to pull the same therefrom in substantially intact condition from the pieces and separately discharging the removed skins and pieces of poultry adjacent the exit end of the machine\n",
      "\n",
      "\n",
      "Other Production Occupations\n",
      "hide pulling method and apparatus\tthe invention involves pulling the hide mechanically from beef carcasses in manner such as to avoid hide and carcass damage without resorting to electric stimulus and without the need for trimming knife labor in removing the hide effectively and advantageously from the skull of the carcass\n",
      "\n",
      "\n",
      "Other Production Occupations\n",
      "apparatus and method for forming staple fibers and feeding the same to picker\tan apparatus and method wherein tow of continuous filaments is fed to tow cutter and severed into fibrous material of predetermined staple length while the fibrous material delivered from the tow cutter is fed to and through at least one textile picker\tthe fibrous material may be formed into laps at the picker for being subsequently processed through cards or the fibrous material may be fed in loose fibrous form from the picker to bank of cards\tmeans are provided for automatically controlling operation of the tow cutter and pickers and for controlling feeding of the fibrous material to the pickers\n",
      "\n",
      "\n",
      "Vehicle and Mobile Equipment Mechanics, Installers, and Repairers\n",
      "flexible container having valve with puncturing plunger\twine or other beverage receptacle comprising flexible container of sheet like material having affixed thereto valve which is capable of puncturing the sheet to provide an outlet together with rigid or semi rigid support having an opening to receive and support the valve and to support the container and its contents in upright position for display and dispensing\n",
      "\n",
      "\n",
      "Other Production Occupations\n",
      "an adjustable strap comprising two pieces of relatively soft elastomeric elongated strips\tthe strips are interconnected one strip having an opening through which the other strip passes\tthe strip having the opening has longitudinal central elongated depression therein provided with series of upstanding teeth and the strip threaded through the opening is provided with an elongated series of upstanding teeth slanting in the opposite direction for engagement with the teeth in the depression at any desired point of adjustment along the strap there being another connection between the two straps\n",
      "\n",
      "\n",
      "Other Production Occupations\n",
      "toggle for use with rope\tin the handling of bundled articles for example logs and timber it has been known to use large variety of knots and tethering devices with what are known in the logging industry as toggles\tprior known techniques and devices have caused excessive wear on ropes and have been time consuming in forming attachments particularly in log booms\tthe present invention provides one piece toggle having plurality of rope receiving holes therein and contoured to permit rapid threading of ropes for cables and reducing wear on the ropes or cables to minimum\n",
      "\n",
      "\n",
      "Textile, Apparel, and Furnishings Workers\n",
      "for releasably interconnecting first member and second member such as for example neck band or strap having depending chain or the like and musical instrument such as saxophone there is provided coupling device comprising housing to which the chain is connected opposed closure members being mounted within the housing with adjacent end portions of the closure members being resiliently urged by the inherent resiliency of the closure members towards closed condition in which the saxophone is connectible thereto\tmanually operable actuating member is mounted on the housing and is movable between first position in which portion of the actuating member which is of frusto conical form permits the adjacent end portions of the closure members to attain the closed condition and second position in which the frusto conical portion of the actuating member urges the closure members to an open condition of the above mentioned adjacent end portions thereof against the influence of the resilient urging of the closure members\n",
      "\n",
      "\n",
      "Other Production Occupations\n",
      "there is disclosed snap shackle with body having an interior cavity and first and second openings into the cavity hinge member being rotatably attached to the body to rotatably mate with and engage the second opening into the cavity\tlatch member is pivotally attached to the body within the cavity and within the second opening portion of the latch member being exposed in the first opening through which opening the latch member is pivoted between first pivotal position for engaging and locking the hinge member in the second opening to form third opening between the hinge member and the body for receiving and coupling objects to the body and second pivotal position for unlocking and releasing the hinge member to rotate and release the objects coupled thereby\n",
      "\n",
      "\n",
      "Textile, Apparel, and Furnishings Workers\n",
      "combination tension and slub catching device\tcombination slub catcher and tension control apparatus for use in the processing of yarn wherein plurality of narrow parallel blades are supported at one side transversely to the path of travel of the yarn and single rigid bar supported at the other side longitudinally of the path of the yarn\tthe confronting surfaces of the transversely and longitudinally supported blades and the bar define narrow yarn passage\tthe transversely supported blades are supported in holder in which they are individually yieldable to the passage of enlargements in the yarn and the longitudinally supported bar is supported on an eccentric for pivotal movement about an axis parallel to the transverse blades and for adjustment toward or from the transverse blades to adjust the width of the yarn passage\ttension lever is mounted on the upper end of the bar above the pivot axis for biasing the bar relative to the blades\n",
      "\n",
      "\n",
      "Textile, Apparel, and Furnishings Workers\n",
      "devices for threading filaments on rollers\tfilament processing apparatus embodying the combination of one or more rotatable rollers for conveying filament or plurality of filaments axially spaced on said roller and looped at least partially about the respective roller surfaces and tubular roller threading device which is longitudinally slotted tube having at least curvate portion adjacent the respective roller\tthe filament preferably either knotted at its feed end or attached to plug at its feed end is drawn through the tubular roller threading device by fluid stream applied at single or axially spaced points into the tube\tthe longitudinal slot of the tube allows the fluid conveyed filament to be drawn out of the tube when the filament is placed in tension after it has been fed around the respective rollers and processing thereof is ready to begin\n",
      "\n",
      "\n",
      "Textile, Apparel, and Furnishings Workers\n",
      "method of replacing the transfer cores of yarn packages with resilient replacement cores\tmethod for transferring package of yarn supported by transfer core to replacement core including the steps of inserting the replacement core into the transfer core removing the transfer core relative to the package of yarn and the replacement core holding the package of yarn during withdrawal of the transfer core and permitting the yarn and replacement core to interengage in completing the transfer of the yarn onto the replacement core\tthere is also provision for the steps of compressing the resilient core to reduce its size compressing the package of yarn and anchoring the replacement core against axial displacement\n",
      "\n",
      "\n"
     ]
    }
   ],
   "source": [
    "print_preds(model, labels, lines[:25])"
   ]
  },
  {
   "cell_type": "code",
   "execution_count": 103,
   "metadata": {
    "autoscroll": false,
    "ein.hycell": false,
    "ein.tags": "worksheet-0",
    "slideshow": {
     "slide_type": "-"
    }
   },
   "outputs": [
    {
     "name": "stdout",
     "output_type": "stream",
     "text": [
      "Textile, Apparel, and Furnishings Workers\n",
      "method for production of hydroxyalkylglycol ethers\tmethod for the production of hydroxyalkyl glycol ethers comprises reacting non terminal epoxides with ethylene glycol in the presence of an alkoxylation catalyst and saturated hydrocarbons in particular saturated aliphatic hydrocarbons as solvents\n",
      "\n",
      "\n",
      "Other Installation, Maintenance, and Repair Occupations\n",
      "removal and neutralisation of acid catalyst from products of cumene hydroperoxide cleavage\tthe mineral acid catalyst is removed from the products of cumene hydroperoxide cleavage by contact with an aqueous solution of an inorganic salt and an excess of an alkali metal hydroxide or phenate in first zone\tsuitably the aqueous solution contains sodium sulphate and sodium hydroxide or phenate\tthe aqueous layer is removed and the organic layer contacted in second zone with an aqueous solution comprising an inorganic salt and sufficient weak acid to decompose any phenate carried over from the first zone\tsuitable weak acids are oxalic and citric acids but the preferred acid is carbonic acid formed in situ by passing carbondioxide into the aqueous inorganic salt solution\n",
      "\n",
      "\n",
      "Other Production Occupations\n",
      "chlorination of aromatic compounds\tnuclear chlorination of aromatic compounds having an electron donating group is effected by contacting said aromatic compound with copper ii chloride in an aqeuous hydrochloric acid solution and adding chlorine to the reaction system to maintain the mole ratio of copper chloride to the sum of copper chloride plus copper ii chloride at more than but less than about\n",
      "\n",
      "\n",
      "Other Production Occupations\n",
      "free flowing particulate pentachlorophenol having little or no tendency to bloom is obtained by incorporating about percent by weight of benzyl alcohol\tprills made from molten pentachlorophenol containing the benzyl alcohol are preferred form\n",
      "\n",
      "\n",
      "Textile, Apparel, and Furnishings Workers\n",
      "process for the recovery of glycols from an aqueous solution\tprocess for the recovery of glycols such as ethylene glycol propylene glycols and butylene glycols from an aqueous solution containing glycol dissolved alkali metal borate and osmium compounds comprising coprecipitating the borate and reduced osmium compound from the aqueous solution with water soluble organic solvents separating the precipitated borate and osmium compound from the solution and recovering the glycol from the remaining water solvent glycol solution\tthe aqueous solutions are derived from the aqueous phase oxidation of an olefin with molecular oxygen in the presence of an octavalent osmium and borate to prepare the corresponding glycol\n",
      "\n",
      "\n",
      "Lawyers, Judges, and Related Workers\n",
      "nitrosochlorination of cyclo olefins\tcyclo olefins are converted in high yield to the corresponding chloro nitroso dimers by dissolving the cyclo olefin in liquid so sub\tand contacting with nocl while maintaining substantially oxygen free environment\teven higher yields are attained by controlling the gradual addition of the nocl and by using molar ratio of nocl to cyclo olefin of less than about\n",
      "\n",
      "\n",
      "Other Management Occupations\n",
      "hydrogenation and hydrodealkylation process\thydrogenation and hydrodealkylation catalysts of aromatic hydrocarbons comprising palladium alloy with molybdenum containing from\tto percent by weight of molybdenum\tthe catalyst can be manufactured in the form of powders blacks membranes foils or tubes and employed in the processes of hydrogenation and hydrodealkylation of aromatic hydrocarbons carried out either separately or simultaneously\n",
      "\n",
      "\n",
      "Vehicle and Mobile Equipment Mechanics, Installers, and Repairers\n",
      "process for preparing polymerizable diene polymer\tpolymerizable diene polymer is prepared by reacting polymerizable unsaturated carboxylic acid anhydride ester or acid halide with polyhydroxydiene polymer having terminal and pendant hydroxy groups obtained from the reaction of one mole of living polymer having molecular weight of to which is prepared by reacting conjugated diolefin or mixture of said conjugated diolefin and vinyl compound having the formula ch sub\trepresents hydrogen atom or an alkyl group and sub\trepresents an aryl group or pyridyl group in the presence of sodium or lithium metal or an organo sodium or lithium compound with\tmoles of epichlorohydrin epibromohydrin epifluorohydrin chlorobutylene oxide or bromobutylene oxide\n",
      "\n",
      "\n",
      "Other Management Occupations\n",
      "and dinitrotoluenes are separated from mixtures thereof with small mounts of isomeric dinitrotoluene impurities by suspending the mixture in an aqueous solution containing small amount of an alkali metal disulfide\tthe isomeric dinitrotoluene impurities are thereby converted to products soluble in the aqueous solution from which the and dinitrotoluenes can be recovered in excellent yield\n",
      "\n",
      "\n",
      "Agricultural Workers\n",
      "process for preparing dimethyl naphthalene\tprocess for preparing dimethyl naphthalenes which comprises heating compound such as methyl tolyl butane methyl tolyl butene or methyl tolyl butadiene in the presence of cyclization dehydrogenation catalyst\n",
      "\n",
      "\n",
      "Vehicle and Mobile Equipment Mechanics, Installers, and Repairers\n",
      "conversion of methanol to gasoline components\tprocess is described for the production of aromatics boiling in the gasoline boiling range from methanol carried out in two stages wherein heat dissipating diluent is employed in the second stage during contact with crystalline zeolite catalyst selective for the purpose and the first stage exothermic temperature rise is catalytically restricted\n",
      "\n",
      "\n",
      "Life, Physical, and Social Science Technicians\n",
      "process for producing alkylaromatics\tin process for producing alkylaromatics by halogenating paraffin and reacting the halogenated paraffin with an aromatic hydrocarbon the rate of halogenation is improved by treating the paraffin to selectively remove oxygen containing hydrocarbonaceous compounds from the paraffin with sorbent selective for such oxygen containing compounds and subsequently halogenating the treated parffin\tthe improvement is particularly useful in producing alkylaromatic hydrocarbons from monocyclic aromatic compounds and paraffins\n",
      "\n",
      "\n",
      "Engineers\n",
      "modification of iron and barium ferrite catalysts\tcatalysts comprising ferrites of iron modified with oxides of cerium zinc manganese and lead and ferrites of barium modified with oxides of zinc manganese and lead and process of oxidative dehydrogenation of organic compounds in the presence of these catalysts compositions and cocatalyst such as chlorine\n",
      "\n",
      "\n",
      "Other Management Occupations\n",
      "hf acid treating the paraffin feed stream to an integrated paraffin isomerization alkylation process\tthe normal paraffin feed stream to an integrated paraffin isomerization hf acid catalyzed alkylation process is treated for the removal of catalyst deactivating sulfur and nitrogen compounds and water by contacting the feed stream with liquid hydrofluoric acid\tthe treated feed stream is separated from the acid by gravity settling charged to an alkylate fractionator and passed through the isomerization process to form an isomerate which is returned to the alkylate fractionator and becomes feed stream to the alkylation zone\n",
      "\n",
      "\n",
      "Construction Trades Workers\n",
      "polymerizable cycloacetal resinous composition\tthis invention relates to polymerizable cycloacetal resinous composition characterized by reacting equivalent of diallylidenepentaerythritol with\tequivalents of polyhydric alcohol unsaturated monocarboxylic acid ester mono ol ii having both hydroxyl group and polymerizable or copolymerizable unsaturated bond in the same molecule with or without solvent in the presence of polymerization inhibitor and addition reaction catalyst\n",
      "\n",
      "\n",
      "Other Production Occupations\n",
      "reaction products of carboxyl terminated polybutadiene with epoxides and aromatic bis maleimides\tfunctionally terminated polybutadiene polymer is reacted with an epoxide to produce an epoxide terminated polybutadiene\tcrosslinking agent and peroxide free radical initiator are mixed with the epoxy terminated polybutadiene and upon reaction thermoset resin is produced having advanced chemical electrical and thermomechanical properties\n",
      "\n",
      "\n",
      "Drafters, Engineering Technicians, and Mapping Technicians\n",
      "radical initiated polymerization reactions and mixture\tmethod of initiating polymerization reactions by the silyl ethers of the tetraaryl glycols\n",
      "\n",
      "\n",
      "Other Production Occupations\n",
      "continuous process for the preparation of abs type polyblends\tthis invention relates to continuous process for the production of abs type polyblends comprising the polymeriztion of monomer composition comprising monoalkenyl aromatic and alkenyl nitrile monomers in single reaction zone forming matrix copolymer dissolved in said monomers as liquid phase removing said liquid phase from said reaction zone and dispersing first and second grafted diene rubber in said liquid phase followed by separating said matrix copolymer and said grafted diene rubbers from said liquid phase forming an abs polyblend having bimodal rubber particle size distribution and matrix copolymer having uniform monomer composition and molecular weight\n",
      "\n",
      "\n",
      "Other Production Occupations\n",
      "separate streams with different catalyst prior to combination\tprocess for the modification of unsaturated polyolefin rubbers by reaction with other polymers amenable to the metathesis reaction in the liquid phase preferably in solution in the presence of metathesis catalyst system comprising soluble compound of metal of the subgroups through vii of the periodic table and soluble alkyl or hydride of metal of main groups through iii of the periodic table as well as optionally activators characterized by the metallic components of the catalyst system each being dispersed preferably dissolved separately in partial streams wherein the reaction components are contained and these partial streams are intermixed intensively\n",
      "\n",
      "\n",
      "Supervisors of Building and Grounds Cleaning and Maintenance Workers\n",
      "thio and sulfonyl glyoxylnitrileoxime phosphates and phosphonates\tcompounds of the formula equ in which is lower alkyl sub\tis lower alkyl or lower alkoxy is thio or sulfonyl sub\tis alkyl benzothiazolo benzyl naphthyl benzodiazolo thiazolo phenyl or substituted phenyl wherein said substituents are chloro bromo methyl or methoxy and the use of these compounds as insecticides\n",
      "\n",
      "\n",
      "Agricultural Workers\n",
      "iodophenyl thiono phosphonic acid esters and ester amides\tis an alkoxy monoalkylamino or dialkylamino radical with carbon atoms per alkyl group is phenyl radical an alkyl radical with carbon atoms monoalkylamino or dialkylamino radical with carbon atoms per alkyl group or an alkoxy radical with carbon atoms and is oxygen or sulfur iodophenyl thiono phosphoric phosphonic acid esters and ester amides of the formula spc in which which possess insecticidal and acaricidal properties\n",
      "\n",
      "\n",
      "Other Production Occupations\n",
      "color improvement of phosphate esters\tmethod for decolorizing and stabilizing alkylphenyl esters of phosphoric acid which comprises contacting the esters with an effective amount of soluble nitrilotriacetate salt for sufficient length of time to decolorize and stabilize the esters against subsequent color formation\n",
      "\n",
      "\n",
      "Other Production Occupations\n",
      "color improvement of phosphate esters\tmethod for decolorizing and stabilizing alkylphenyl esters of phosphoric acid which comprises contacting the esters with an effective amount of sodium salt selected from the group consisting of sodium dithionite and sodium formaldehyde sulfoxylate for sufficient length of time to decolorize and stabilize the esters against subsequent color formation\n",
      "\n",
      "\n",
      "Life Scientists\n",
      "color improvement of phosphate esters\tmethod for decolorizing and stabilizing alkylphenyl esters of phosphoric acid which comprises contacting the esters with an effective amount of an oxidizable nitrogenous compound for sufficient length of time to decolorize and stabilize the esters against subsequent color formation\n",
      "\n",
      "\n",
      "Health Technologists and Technicians\n",
      "color improvement of phosphate esters\tmethod for decolorizing and stabilizing alkylphenyl esters of phosphoric acid which comprises contacting the esters with an effective amount of triorganoaluminum or organoaluminum hydride for sufficient length of time to decolorize and stabilize the esters against subsequent color formation\n",
      "\n",
      "\n"
     ]
    }
   ],
   "source": [
    "print_preds(model, labels, lines[1000:1025])"
   ]
  },
  {
   "cell_type": "code",
   "execution_count": 105,
   "metadata": {
    "autoscroll": false,
    "ein.hycell": false,
    "ein.tags": "worksheet-0",
    "slideshow": {
     "slide_type": "-"
    }
   },
   "outputs": [
    {
     "name": "stdout",
     "output_type": "stream",
     "text": [
      "Computer Occupations\n",
      "use of hot spare drives to boost performance during nominal raid operation\tmethod and apparatus for increasing performance in data processing system\tthe data processing system includes plurality of storage devices and backup storage device\tthe backup storage device is configured as log device\tdata is logged to the backup storage device after the backup storage device has been configured as log device\tin response to failure of storage device within the plurality of storage devices the backup storage device is reconfigured to be used as replacement for the failed storage device\n",
      "\n",
      "\n",
      "Computer Occupations\n",
      "estimator program for estimating the availability of an application program that runs in cluster of at least two computers\tan estimator program is disclosed which performs method steps for estimating the availability of an application program that runs on any computer in cluster of at least two computers\tby the availability of an application program is herein meant the probability that at any particular time instant at least one of the computers in the cluster will actually be servicing requests from external workstations to use the application program\tin one embodiment the estimator program begins by receiving input parameters which include multiple downtime periods for each computer in the cluster that occur at respective frequencies due to various downtime sources and an application failover time period for switching the running of the application program from any one computer to another\tfrom those input parameters the estimator program estimates first and second annual stoppage times and then determines the availability of the application program on the cluster from the sum of the first and second annual stoppage times\n",
      "\n",
      "\n",
      "Entertainers and Performers, Sports and Related Workers\n",
      "turbo code interleaver with near optimal performance\tmethod of interleaving blocks of indexed data of varying length is disclosed\tthe method includes the steps of providing set of basic interleavers comprising family of one or more permutations of the indexed data and having variable length selecting one of the basic interleavers based upon desired interleaver length and adapting the selected basic interleaver to produce an interleaver having the desired interleaver length\n",
      "\n",
      "\n",
      "Construction Trades Workers\n",
      "method and arrangement for controlling multiply activated test access port control modules\tan arrangement controls an ic designed with multiple core circuits such as multiple cpus with each core circuit including its own tap controller and with multiple tap controllers enabled at time\tfor applications typically requiring that control be transferred between such tap controllers one embodiment of the present invention configures tlm based design such that multiple tap controllers can be simultaneously enabled\tthis alleviates the need to actually transfer the control from one tap controller to the next\tto maintain consistency with the ieee jtag recommendation the tlm based design is configured such that only one tap is enabled upon reset\tafter reset the tlm controls the multiply enabled tap controllers\tanother specific example implementation is directed to circuit control arrangement for such multi core ic having each tap controller generate status and test signals in response to input signals directed to each of the multiple tap controllers\ttap link arrangement including tap link module and control signals coupled to each of the multiple tap controllers selectively multiplexes the input signals to the multiple tap controllers and multiplexes the status and test signals provided by the multiple tap controllers to an output port of the ic\n",
      "\n",
      "\n",
      "Other Management Occupations\n",
      "method of generating test patterns for logic circuit system performing the method and computer readable medium instructing the system to perform the method\tin method of test pattern generation for logic circuits whole circuit is divided into plurality of partial circuits for test pattern generation by distributed processing\tatg algorithmic test generation process is performed per each of the partial circuits based on the result of rtg random test generation process\talso disclosed are test pattern generation system performing the method and computer readable media having program for the test pattern generation system to perform the method\n",
      "\n",
      "\n",
      "Electrical and Electronic Equipment Mechanics, Installers, and Repairers\n",
      "testable integrated circuit integrated circuit design for testability method and computer readable medium storing program for implementing the design for testability method\tapparatus for testing integrated circuits containing controller or other sequential circuit at actual operating speed while minimizing the length of the test sequence and achieving high fault coverage are provided\tthe states of state register are assumed controllable and observable and set of test patterns is obtained for combinational circuit not containing said state register\tan invalid state generation logic circuit is added for generating invalid states which are states contained in the generated test patterns but cannot be set by normal transition from the reset state\tmultiplexer is added for selecting the output of next state generation logic circuit or the invalid state generation logic circuit for input to the state register based on state transition mode selection signal\tsignals corresponding to pseudo primary outputs during test generation are made observable and the multiplexer output signal is externally detectable as state output signal\n",
      "\n",
      "\n",
      "Other Production Occupations\n",
      "decoding circuit and information processing apparatus\tmaximum likelihood decoding circuit is arranged to reduce power consumption through the effect of viterbi algorithm\tplurality of storing elements located vertically in column and for storing each state survivor path information at the same time point are treated as storing element blocks in manner to correspond to the combination state of intracode interferences\tthe outputs from the storing elements are again applied into the inputs of the corresponding storing elements contained in the same storing element block through path history selecting circuits\teach of the storing blocks is periodically started on the input timing of receiving signal at each processing time point by starting signals pointers outputted from starting signal pointer generated circuit\tstoring element block output circuit and storing element block output terminals are provided in each of the storing element blocks so that path memory circuit output may be outputted through an or circuit\n",
      "\n",
      "\n",
      "Textile, Apparel, and Furnishings Workers\n",
      "fast metric calculation for viterbi decoder implementation\tmethod and apparatus are used for determining metric in decoding algorithm such as viterbi algorithm using an bit processing module on the basis of plural bit soft input words wherein gtoreq times\tthe technique comprises receiving plural bit soft input words assembling at least two of the plural bit soft input words into single bit composite soft input word computing the respective distances between the at least two soft input words in the composite soft input word and expected codeword values to produce composite distance word summing the respective distances together to produce the metric and extracting the metric\tthe bit processing module may comprise bit processing module employing bit words and the bit soft input words may each comprise bit word\tprocessing the plural soft input words en bloc increases the speed and information transfer rate of the decoder and reduces the memory requirements of the decoder\n",
      "\n",
      "\n",
      "Drafters, Engineering Technicians, and Mapping Technicians\n",
      "error detecting method and device and signal demodulating method and device\tin an error detecting method and device for calculating phase error in psk modulated signal having predetermined modulation phase number and so configured that received phase of the modulated signal is mapped on complex plane by allocating an inphase signal and quadrature signal generated from the modulated signal as values of the axis of abscissas and the axis of ordinates and phase error between the received phase of the modulated signal thus mapped and reference phase in each of plurality of signal areas\tthe phase error between the received phase of the modulated signal mapped on the complex plane and reference phase in each of the plurality of signal areas is calculated as distance between the mapped position of the modulated signal and reference straight line from at least one of the inphase signal and the quadrature signal so as to obtain plurality of phase errors\tone signal area to which the received phase is mapped is discriminated and selected from the plurality of signal areas on the basis of the inphase signal and the quadrature signal\tone phase error corresponding to the discriminated signal area is selected from the plurality of phase errors calculated above\n",
      "\n",
      "\n",
      "Computer Occupations\n",
      "apparatus and method for correcting one bit error of parallel digital bus\tin method and apparatus for modifying an error in the case of one bit error in parallel digital bus the original data can be recovered when one of the data bits is fixed as or because of hardware error or when one of the data bits has random value of or\tin case of no error the present invention only endures such overhead as propagation delay rarely causing decrease in performance\tif the present invention is chosen as bus specification such as pci in other words if the present invention is utilized as bus interface in the bus using chips the bus fault tolerance is improved\n",
      "\n",
      "\n",
      "Engineers\n",
      "technology mapping method and device for mapping cost functions on directed acyclic graphs using decoupled matching and covering and circumventing the memory explosion usually caused by this decoupling\tmultiple matches are generated at the head of wavefront process and embedded within the network\tcovering is done at the tail of the wavefront to optimize one or more cost functions\n",
      "\n",
      "\n",
      "Social Scientists and Related Workers\n",
      "forgery prevention microcontroller circuit\tthe invention relates to microcontroller circuit comprising circuit elements arranged on semiconductor body\tin order to make tentative forgery of such microcontroller circuit at least more difficult at least number of the co operating circuit elements is provided on the semiconductor body in an irregularly scrambled spatial configuration\n",
      "\n",
      "\n",
      "Computer Occupations\n",
      "method for designing application specific integrated circuits\tan asic design methodology in which portions of the asic are implemented in silicon or other suitable semiconductor technology at an early stage in the design flow through the use of series of interim devices\tthe invention provides method in which additional portions or subsystems of the integrated circuit are incorporated into successive versions of the interim device\tin this manner the invention provides for the gradual incorporation of plurality of architectural subsystems into the integrated device such that the synthesis and verification of each iteration is broken into manageable pieces\tin the preferred embodiment this design method is facilitated by incorporating programmable portion into the design flow of each interim device such that each interim device includes custom portion into which the subsystems that have been implemented in silicon are fabricated and programmable portion\tthe programmable portion is useful in permitting the designer to make modifications to the subsystems implemented in the custom portion or to simulate the subsystems of the target device that have yet to be implemented in the custom portion\n",
      "\n",
      "\n",
      "Other Production Occupations\n",
      "method and apparatus for in system programming with status bit\tapparatus and method for programming programmable logic device pld using status bit to indicate whether in system programming isp has been completed\tcomplex electronic systems often use plds to interface to other elements of the system and to the outside environment\tsuch plds are reprogrammed by the system controller using the boundary scan jtag access port but power failure may cause an unwanted termination of the programming cycle before all of the pld internal logic connections and functional pins are properly programmed\tin such situation some or all of the pld functional input output pins could be driven to erroneous states such that other devices connected to them would be damaged or prevented from operating correctly\tthe status indicator is set to hold all pld functional pins in high impedance condition tri state until programming or another non mission mode of pld operation is successfully concluded\tadditionally selected driver elements within the pld can be disabled in the same way\tin the event of an unexpected loss of power the status indicator causes all pld functional pins to come up in tri state on restoration of power and therefore be unable to assert control of any other connected devices or busses\tlikewise selected drivers can also be disabled to prevent similar contention problems\n",
      "\n",
      "\n",
      "Other Production Occupations\n",
      "method for exposure mask inspection and recording medium on which program for searching for portions to be measured is recorded\tdisclosed is an exposure mask inspecting method for use in manufacturing semiconductor devices\tthis inspecting method calculate gradients of correlation curve of variation in critical dimension of an exposure mask and variation in critical dimension of resist extracts portions having large slopes of the correlation curve and slopes the portions having large slopes of the correlation curve as to be measured portions at the time of verifying the specifications of the surface critical dimension of the exposure mask\n",
      "\n",
      "\n",
      "Other Office and Administrative Support Workers\n",
      "language processing system and language processing method enabling reduction of memory region and overhead in profile information collection of computer\tlanguage processing method detects function call in source program by static analysis inserts branching code to profile process per function call detected in the source program and setting region of table storing number of times of corresponding function call per an identification number of call pair in function call executes translation of the source program inserted the branching code to the profiling process and increments number of function call of the table with taking the identification number corresponding to kind of call pair in corresponding function call as index when the inserted profiling process is present\n",
      "\n",
      "\n",
      "Art and Design Workers\n",
      "method for visual programming with aid of animation\tprogram making method includes the steps of displaying figures representative of plurality of objects inputting command train which includes plurality of processing commands each designating at least one of the objects and processing to be executed for that object and forms program to be made executing each processing command so that processing designated by that command is executed for example data of an object designated by the command each time the command is inputted and changing the display of figure representative of an object designated by each of at least some of the processing commands by processing figure data concerning the figure when that command has been executed\tanother program making method includes displaying figures which represent plurality of objects and figure for program to which program to be made is allotted inputting command train which includes plurality of processing commands each instructing one of the objects to execute at least one processing and forms the program to be made and changing the display of the figure for program in the vicinity of point of time of the input of each processing command so that figure representative of one object designated by that command can be discriminated\n",
      "\n",
      "\n",
      "Computer Occupations\n",
      "compiler is adapted to minimize the ultimate code size of an object program that has been translated from source program including plurality of instructions\tthe compiler includes first instruction length calculator for calculating total length of the instructions where variables for the source program are allocated to first type of register resources in accordance with first instruction format and second instruction length calculator for calculating total length of the instructions where the variables are allocated to second type of register resources in accordance with second instruction format\tthe length of one instruction defined by the second instruction format is different from that defined by the first instruction format\tthe variables are allocated to respectively appropriate ones of the register resources based on the results of calculation derived by the first and second instruction length calculators\n",
      "\n",
      "\n",
      "Computer Occupations\n",
      "merging of separate executable computer programs to form single executable computer program\tthe present invention generally speaking provides method for modifying an original executable by injecting it with an injection executable using code injection utility\tthe original executable and the injection executable are of the same or compatible file formats and the structure of both executables is either known in advance or ascertainable by dumping and analyzing the contents of the executable\tpreferably the injection executable is complete self contained executable written using standard development tools such as graphical object oriented development environment\tin an exemplary embodiment the code injection utility combines the original executable and the injection executable in such way as to control execution of the original executable through prior execution of the injection executable\tthe user need only run the code injection utility specify the names of the original executable and the injection executable and specify the name of the new executable to be created\tthe code injection utility then automatically reads and analyzes the original executable and the injection executable combines the original and injection executables in predetermined fashion and writes out new executable\tduring the foregoing process addresses are automatically adjusted as necessary\tthe execution pointer of the new executable points to code from the injection executable and export entry points of the original executable are stored within and can only be obtained through code from the injection executable\texecution of code from the original executable is therefore entirely mediated by code from the injection executable\n",
      "\n",
      "\n",
      "Computer Occupations\n",
      "try buy wrapping of installation ready software for electronic distribution\tthe present invention generally speaking provides semi or fully automated process that allows an electronic collection of software titles previously made ready for installation to be try buy enabled\tin accordance with an exemplary embodiment of the invention the process involves for each of potentially large number of software programs identifying how the software program has been made ready for installation and consulting table or database to determine how based on the installation particulars to unpack and repack the setup file set or program archives the program archive is unpacked executable modules are identified and one or more of thee modules are chosen for try buy wrapping\trepacking may be performed by modifying the program archive or by entirely rebuilding the program archive\tthe setup ruleset remains unchanged\tsecondary executable setup file is therefore optionally provided to perform an additional setup steps that may be required for proper try buy operation\tthese additional steps may be necessitated by the requirements of certain setup tools that prohibit replacement of file in the setup file set with larger file\tfor those setup tools the repacking steps involve inserting some information into the original setup file set and appending additional information past the end and the recombining these material to yield the try buy enabled version of the software\n",
      "\n",
      "\n",
      "Computer Occupations\n",
      "methodology for migration of legacy applications to new product architectures\tmethod for migrating legacy applications into new software product architecture using functional conversion module located within system controller\tthe functional conversion module comprises migration plan shut off\tthe functional conversion module further comprises three paths or branches through which functional request can be routed\tfunctional requests which are not identified in the migration plan are routed through the first path and the functional request is sent to the pre existing software and executed as requested\tfunctional requests identified in the migration plan for which the pre existing software is in control are routed through the second path and the functional request is sent to the pre existing software and executed as received\tin the background the functional request is translated for the new software and sent to the new software and executed\tfunctional requests identified in the migration plan for which the new software is in control are routed through the third path and the functional request is translated for the new software and sent to the new software and executed\tif the pre existing software has been shut off the task is complete\tif the pre existing software is not identified as being shut off the functional request is sent to the pre existing software and executed as received in the background\tduplicate requests are suppressed by the system controller\n",
      "\n",
      "\n",
      "Other Management Occupations\n",
      "access control facility for service on demand system\tservice on demand system with set top box which is connected to the service on demand system and includes smart card interface and decoder which can read and decode information stored on smart card inserted by user into the interface and with controller which can permit or block access to the service on demand system depending on the decoded information is characterized in that input means are provided for enabling the user to enter secret number and that the decoder of the set top box is granted access to the inserted smart card for reading and decoding the information stored thereon only if correct secret number was entered\tunauthorized access to the system can thus be prevented with higher degree of certainty than in conventional systems\tthe sensitive data stored on the smart card are additionally protected against unauthorized readout by password\n",
      "\n",
      "\n",
      "Health Technologists and Technicians\n",
      "channel selecting method and apparatus\tchannel selecting method and apparatus\tin addition to selecting current viewing channel by using one of two tuners channel predicted to be selected is selected by using the other tuner\tif channel change to the channel predicted to be selected is requested signal of the selected channel is selected as signal of the viewing channel\n",
      "\n",
      "\n",
      "Electrical and Electronic Equipment Mechanics, Installers, and Repairers\n",
      "device for receiving satellite broadcast and receiving method therefor\tsatellite broadcast receiver comprises an antenna tuner modulator fec decoder microprocessor and an antenna driver\tthe antenna receives the satellite signal and the tuner tunes the satellite signal received by the antenna and the modulator modulates the satellite signal tuned by the tuner into digital signal the fec decoder corrects position error of the satellite antenna using the signal modulated by the modulator and outputs corresponding output signal and the microprocessor receives the signal modulated by the modulator and the output signal of the error corrector and outputs control signal which controls the position of the antenna and the antenna driver drives the antenna in accordance with the control signal of the microprocessor\tthe satellite broadcast receiver enables user to detect satellites fast and see satellite broadcast conveniently\n",
      "\n",
      "\n",
      "Media and Communication Workers\n",
      "channel selection for hybrid fiber coax network\tmethod for monitoring at least one telephony communication bit channel wherein one of the bits is parity bit includes sampling the parity bit of the bit channel\tprobable bit error rate is derived from the sampling of the parity bit\tthe probable bit error rate can be compared to pre determined bit error rate value to determine if the at least one telephony communication bit channel is corrupted\tif the at least one telephony communication bit channel is corrupted the at least one telephony communication bit channel is re allocated to an uncorrupted and unallocated telephony communication bit channel\tfurther at least one unallocated telephony communication channel can be periodically monitored and error data accumulated to indicate the quality thereof\n",
      "\n",
      "\n"
     ]
    }
   ],
   "source": [
    "print_preds(model, labels, lines[5000:5025])"
   ]
  },
  {
   "cell_type": "code",
   "execution_count": 109,
   "metadata": {
    "autoscroll": false,
    "ein.hycell": false,
    "ein.tags": "worksheet-0",
    "slideshow": {
     "slide_type": "-"
    }
   },
   "outputs": [
    {
     "name": "stdout",
     "output_type": "stream",
     "text": [
      "Other Production Occupations\n",
      "thermo magnetic image recording methods and apparatus\tmagnetic image recording methods and apparatus employ magnetic recording medium susceptible to an image wise change of magnetization in response to thermal image patterns provided by image wise exposures of thermal image pattern generating device\tthe thermal device is subjected to repeated image wise exposures with each exposure including an exposure to an image part to which the thermal device is also exposed during another one of the exposures\tthe thermal device is moved relative to the recording medium between exposures and the image is magnetically recorded onto the recording medium with the aid of thermal image patterns generated by the exposures\tin accordance with another aspect the mentioned thermal device is exposed at different spatial locations to each elemental area of the image\tthe exposed spatial locations as to each elemental image are brought into coincidence relative to the recording medium and the image is magnetically recorded onto the recording medium with the aid of thermal image patterns generated by the mentioned exposures\n",
      "\n",
      "\n",
      "Information and Record Clerks\n",
      "identification camera and method of making identification cards\tto make an identification card an individual is placed in front of retroreflective screen and faces camera which has semi transparent mirror disposed at an angle of degree\tin front of its principal objective lens\tcard bearing data identifying the individual is placed in the camera in registry with second objective lens whose axis is disposed at right angles to the axis of the principal lens and at degree\twhen the shutter between the principal lens and the photosensitive material in the camera is tripped flash mechanisms cause the image of the card to be transmitted by the mirror to the screen and back through the principal lens onto frame of the photosensitive material where it forms homogeneous background and simultaneously cause the image of the individual to be photographed through the principal lens onto the same frame of photosensitive material\n",
      "\n",
      "\n",
      "Other Office and Administrative Support Workers\n",
      "multi image camera adapted to produce small photographs such as those placed on personal identification cards passes or the like\tthe camera takes exposures of up to four separate images either simultaneously or sequentially on self developing photo sensitive paper\tthe camera is provided with lens plate consisting of an apertured disc rotatable about central axis and shutter which when actuated permits light to pass through one or more of the lens apertures and expose selected portions of the photo sensitive paper\tthe lens position and shutter actuation are controlled by single rotating lever arm assembly and drive means\n",
      "\n",
      "\n",
      "Media and Communication Equipment Workers\n",
      "interchangeable lens adaptable to camera or photographic shutter with built in sector system\tthe invention is related to sector system capable of providing lens elements of different aperture held in different support means\texposure of film through the lens is determined by the opening and closing of sector plate system and the time and extent of opening and closing is appropriately controlled by changing the position of the drive means relative to the lens forming means\tin this way the sector plates for exposing the camera film to light passing through the lens travel different distances which depend upon the light aperture required in order that the exposure shall be consistent with the lens aperture and its speed and at least approximately equal to the overlap and overswing phases of the sector system\n",
      "\n",
      "\n",
      "Engineers\n",
      "this invention relates to selenium rectifiers and method of making them\tusing techniques of electrophoretic deposition of selenium selenium rectifier is manufactured having barrier layer adjacent the base electrode\tthis results in cheaper rectifier with improved heat dissipation\n",
      "\n",
      "\n",
      "Information and Record Clerks\n",
      "apparatus for making microfiches\tmethod and apparatus for producing composite microfiche including first emulsion bearing lamina on which one or more permanent data image frames are located and second emulsion bearing lamina on which one or more updating data image frames are located wherein the image or images on the first lamina are inverted and in different planar positions with respect to the image or images on the second lamina such that when the emulsion on the first lamina is superimposed on the emulsion on the second lamina the laminae can be read together as one microfiche the images appearing in the different planar positions in substantially common focal plane\tthree reflective surface microfiche image inverter is also provided\n",
      "\n",
      "\n",
      "Other Production Occupations\n",
      "device for handling photographic film between cassette and an exposure reproduction apparatus\tdevice for handling photographic film between holder or cassette and an exposure reproduction apparatus including drum wherein the cassette is arranged to be supported with an opening therein registering with an opening in housing supporting film exposure means film supported in the cassette being transferred through the aligned openings into the housing and into engagement with the supporting means to facilitate exposure of the film within the housing\trockably mounted film supporting frame in the cassette is movable through the openings to place the film in mounted relation on an exposure drum within the housing by means of aligned film supporting pins on the frame and on the drum\tmanually operable driving and control means are provided on and in the housing for actuating and controlling both the cassette film frame and the exposure drum as well as stripping means whereby after exposure the exposed film is returned to the cassette\n",
      "\n",
      "\n",
      "Electrical and Electronic Equipment Mechanics, Installers, and Repairers\n",
      "semiconductor diode with voltage dependent capacitance\tsemiconductor wafer constituting diode with voltage dependent capacitance having an type base layer and two type layers forming together two junctions\tthe area of one of the junctions is to times greater than that of the other junction\tthe larger junction of the semiconductor diode is energized by positive potential thus becoming forward biased while the smaller junction is energized by negative potential becoming reverse biased\tthe resulting barrier capacitance of the reverse biased junction determines capacitance and its variation with temperature is compensated by simultaneously changing potential of the two junctions\n",
      "\n",
      "\n",
      "Drafters, Engineering Technicians, and Mapping Technicians\n",
      "semiconductor device having schottky junction and method of manufacturing same\tsemiconductor device having schottky junction formed by providing semiconductor body at least two metal layers one on top of the other which can each form schottky barrier with the semiconductor in which according to the invention the formed schottky diode has higher barrier than each of the metals individually relative to the semiconductor by heating the assembly above degree\tpreferably nickel or cobalt is first provided and thereon aluminum and heating is carried out at degree\n",
      "\n",
      "\n",
      "Drafters, Engineering Technicians, and Mapping Technicians\n",
      "high power high frequency bipolar transistor with alloyed gold electrodes\tbipolar transistor is provided with both high voltage and high frequency capabilities\tsemiconductor body of resistivity between and ohm cm forms the collector region of the transistor and has an epitaxial semiconductor layer grown on major surface thereof of resistivity between about\tand ohm cm and of thickness between about and microns and of conductivity type opposite from the body\tat least one emitter region and integral emitter electrode are alloyed into the epitaxial layer preferably in annular rings\tbase region is formed in the epitaxial layer between the emitter and semiconductor body and around the emitter region said base region having minimum thickness between the emitter region and the semiconductor body in the interior of the body of less than and preferably between and microns\tbase electrodes are alloyed into the epitaxial layer preferably spaced from the emitter region and emitter electrode preferably in concentric annular rings and center circular member\n",
      "\n",
      "\n",
      "Other Production Occupations\n",
      "color image pick up system using strip filter\tcolor filter strip arrangement for color television camera tube which produces luminance and chrominance signals and in which the chrominance signals are separeted from each other by phase division\tbiasing light source is provided for illuminating the color filter to provide minimum light level against black frame at the periphery of the filter in order to enable discrimination of chrominance components when the scene being televised is at an extremely low light level\tin another embodiment the strip arrangement involves combinations of first and second colors and has strip of the first color strip of the second color and black strip\tthese combinations of strips are in turn separated by transparent strips\n",
      "\n",
      "\n",
      "Printing Workers\n",
      "color television signal generator\tcolor television signal generator includes novel cathode ray tube whose spot varies in chromaticity regularly during horizontal scanning of an electron beam\tthe chromaticity variable spot is focused on color recording medium to be imaged and resulting light is detected by single photoelectric converter to provide color signal\n",
      "\n",
      "\n",
      "Other Office and Administrative Support Workers\n",
      "apparatus for displaying colored image\tan apparatus for displaying color image provides composite color signals of the sum of the low frequency components of each color signal of red green and blue of the color image and high frequency components of their luminance signals\tit samples at different times at least two of the aforesaid composite color signals responsive to the position in the array of dots on the colored image display panel on which are arrayed color dots among which the number of green dots is greater than the number of red and blue dots the sampled color signals are supplied to each of the dots\n",
      "\n",
      "\n",
      "Air Transportation Workers\n",
      "audio visual apparatus with control signal operated gating means\tadaptor for reliably switching between audio and video information signals obtained from an external audio input device the tape of standard audio cassette recorder or player with only the video information signals being applied to standard television receiver\n",
      "\n",
      "\n",
      "Life, Physical, and Social Science Technicians\n",
      "recording instrument adapted for use in remote unattended locations\trecording instrument for use in ocean depths and like remote locations and adapted to provide meaningful readings of temperatures and pressure for example at such locations over long period of time without attendance\tanalog signals from transducers which indicate the level of the thing to be measured are processed to give an averaged digital signal that is then stored on magnetic tape\tthe system is battery powered\tthe instrument detailed is for use at ocean depths where the instrument housing and attachment to mooring line are of particular importance\n",
      "\n",
      "\n",
      "Other Production Occupations\n",
      "multi media production programmer\tnovel equipment utilizing single head single gap on single track in an audio magnetic recorder to permit control of large variety of audio visual devices for the pre programming of multi media presentation in educational entertainment and other fields\tparticular structure including an audio magnetic tape drive mechanism which permits by means of single head with single gap on single track index signal recording data signal recording data signal updating and data signal playback is provided to perform multiple discrete and proportional control functions\tthe same magnetic tape may carry on separate track or tracks audio information which is correlated with the functions controlled by the data recorded on the device control track\n",
      "\n",
      "\n",
      "Media and Communication Equipment Workers\n",
      "magnetic bubble read write head for magnetic recorder playback device\tdevice for recording and playing back information in spiral like track or track consisting of concentric circles present on disk shaped recording medium in which the storage and playback element consists of sheet of magnetizable material which contains single wall magnetic domain\tthe polarity of radially directed magnetic field can be inverted according to frequency modulated with signal to be recorded so as to record information together with the stray field of the domain\tdetector is present to detect position variations of the domain upon playing back and means are present to correct the position of the domain in the sheet by way of fine control upon playing back\n",
      "\n",
      "\n",
      "Other Production Occupations\n",
      "tape recorder with cartridge selecting means\tthe present invention relates to an improvement of tape recorder for endless tape cartridges\tthe tape recorder comprises storing means for storing several endless cartridges in piled or stacked condition reproducing means for playing the cartridges and selecting means for selecting desired cartridge from the stored cartridges\tsaid reproducing means includes an elongated capstan shaft positioned near pinch rollers for the cartridges several magnetic heads and conventional electrical circuit for reproducing the magnetic tape of the cartridge\tthe said selecting means includes several pressure rollers positioned in shaped notches of the cartridges respectively several offset cams adapted to individually press the pressure rollers thereby pressing the pinch rollers of the cartridges to the elongated capstan shaft and an electrical control circuit for electrically selecting the action of the desired cam thereby playing the desired cartridge\n",
      "\n",
      "\n",
      "Printing Workers\n",
      "method of manufacturing semiconductor device\tmethod of making field effect transistor in which gate electrode is provided on semiconductor layer and then the surface subjected to electron or ion bombardment to form the source and drain electrodes on opposite sides of the gate acting as mask and spaced apart by the width of the gate\n",
      "\n",
      "\n",
      "Engineers\n",
      "method for making an igfet is described\tthe method utilizes impurity ion implantation into the surface channel to determine the conductivity thereof\tthe advantages include special impurity profiles providing improved performance better control over important parameters such as threshold voltage the manufacture of improved tetrodes and the manufacture of improved ics using for example and channel devices and depletion and enhancement devices combined in single chip\n",
      "\n",
      "\n",
      "Electrical and Electronic Equipment Mechanics, Installers, and Repairers\n",
      "stator slot and winding arrangements\tstator for use in an alternating current motor includes core having plurality of angularly spaced slots\tdistributed main winding is concentrically arranged in plurality of the slots with these slots encompassing first arcuate region of the core less than its circumference\tend turns for the main winding are positioned adjacent an end face of the first arcuate region of the core\tthis provides second arcuate region of at least one end face of the core free of the main winding\tin first embodiment an auxiliary winding displaced in phase from the main winding is received in plurality of the slots including at least some slots in the second arcuate region\tin the first embodiment end turns of the auxiliary winding in the second arcuate region are disposed inwardly of the radially outermost edges of the slots in the second arcuate region along at least one end face of the core\tin second embodiment the second arcuate region of one end face of the core is free of both the auxiliary winding and the main winding\n",
      "\n",
      "\n",
      "Other Production Occupations\n",
      "triple slope analog to digital converters\tramp type analogue to digital converter including an integrating circuit the output of which is first set to level dependent upon the magnitude of an analogue input voltage to be converted\treference signal is then applied to ramp down the integrator output level to datum level and the conversion is effected by counting clock pulses while the integrator output is ramping down to datum level\tthe magnitude of the reference signal and the numerical weighting of the clock pulses being counted are scaled down by common factor when the ramp reaches value close to the datum level so that the slope of the ram is reduced and the resolution of conversion is increased as it approaches datum\tthus compared with ramp type digital voltmeter having constant slope discharge ramp and given resolution the discharge time is reduced for the same resolution of conversions\n",
      "\n",
      "\n",
      "Material Moving Workers\n",
      "surgical gown with transfer device\tsurgical gown having central and side portions hereinafter referred to as panels and outer belt means\tthe belt means comprises two tie strings or the like one of said ties being attached to the central panel of the gown near one of the two side panels\tthe other tie is attached to the second of the side panels near the outer edge thereof\tthe free end of each tie is releasably grasped by transfer device which holds the ties in position overlying the outer surface of the central panel\tduring the gowning procedure the transfer device becomes the means whereby sterile assistant may effect final closure of the gown without becoming contaminated or whereby non sterile assistant may effect final closure of the gown without endangering or destroying the sterile character of the gown\tpreferably the gown also comprises inner closure means for further securing the gown in the waist area\n",
      "\n",
      "\n",
      "Textile, Apparel, and Furnishings Workers\n",
      "an article of wearing apparel adapted for use as tie scarf neck piece hood belt or the like is formed of an elongated fabric member having an intermediate portion and opposite end portions joined together by respective pair of first and second fabric portions or layers connected at spaced points to define passages therebetween\tthe first and second fabric portions of each pair are each of width substantially less than width of the intermediate portion and the opposite end portions whereby when one of the end portions has been moved through the passage adjacent the other end portion fabric portions resist attempts to pull the one end portion through said passage\n",
      "\n",
      "\n",
      "Construction Trades Workers\n",
      "toilet tank flapper valve providing user selection of either full or partial dispensing of the liquid contents of the tank\tnovel ball check valve particularly located in the flapper valve either obstructs water from entering or permits it to enter the buoyancy chamber of the flapper valve\twhen water is permitted to enter partial dispensing action results\n",
      "\n",
      "\n"
     ]
    }
   ],
   "source": [
    "print_preds(model, labels, lines[5000:5025])"
   ]
  },
  {
   "cell_type": "code",
   "execution_count": 111,
   "metadata": {
    "autoscroll": false,
    "ein.hycell": false,
    "ein.tags": "worksheet-0",
    "slideshow": {
     "slide_type": "-"
    }
   },
   "outputs": [
    {
     "name": "stdout",
     "output_type": "stream",
     "text": [
      "Assemblers and Fabricators\n",
      "battery of storage cells\tthe invention relates to semi open battery of storage cells each likely to evolve large volume of hydrogen more particularly during overcharge\tbattery according to the invention comprises an intermediate or dummy lid so located with respect to the regular lid of the battery to enable the inflammable gas flow generated in the cells to be isolated from the flow of fluid or gas serving for cooling of the electrical connections of the storage cells and thus avoiding or eliminating all danger of explosion\n",
      "\n",
      "\n",
      "Material Moving Workers\n",
      "blow molded gang type vent for multiple cell electric storage battery\tdimensionally flexible one piece thermoplastic resinous hollow gang type vent with vent plugs for plurality of the filling wells of multiple cell battery is produced by blow molding technique\n",
      "\n",
      "\n",
      "Vehicle and Mobile Equipment Mechanics, Installers, and Repairers\n",
      "porous ceramic battery vent\tfired porous ceramic battery vent having porosity and particle size distribution which can effectively permit the venting of cell gases in the battery while at the same time impede flame from entering the battery container\tthe fired ceramic body is formed with high melting point inorganic material containing aluminum and silicon oxides having particle size no larger than about microns\tlower melting point glass is used to fuse the particles together when in the fired state\tthe particle size of the high melting point material is important and ranges in size from to microns\n",
      "\n",
      "\n",
      "Engineers\n",
      "process for producing austenitic ferrous alloys\tthere is disclosed method for producing austenitic ferrous alloys containing from manganese and from chromium by exposing the alloys in solid form to nitrogen or nitrogen compounds at temperature of at least degree for time period sufficient to raise the nitrogen content of at least the surface of the alloy to at least\n",
      "\n",
      "\n",
      "Construction Trades Workers\n",
      "strip of composite metal laminate material embodying thin inner layer of stainless steel sandwiched between and metallurgically bonded to two relatively thicker outer layers of low carbon steel is subjected to brief high temperature heat treatment followed by relatively much longer heat treatment at much lower temperature for substantially eliminating the yield point in the laminate and for maximizing formability of the laminate while permitting some reduction in the corrosion resistance properties of the stainless steel layer of the laminate\tthe composite strip material is then readily formed into two concentrically disposed convolutions of the strip material while the laminate material is in this highly formable condition\tthe convolutions of the strip material are then brazed together to provide double walled tubing the brazing procedure being regulated to effect selected heat treatment of the formed composite material for substantially restoring the corrosion resistance properties of the stainless steel layer of the laminate within the finished tubing\n",
      "\n",
      "\n",
      "Health Diagnosing and Treating Practitioners\n",
      "magnetic recording medium for high density recording comprising support having thereon magnetic recording layer comprising ferromagnetic metal powder of the fe co cr system and having coercive force of about to oersteds in the oriented direction of the magnetic substance and residual magnetic flux density of about gausses or more the residual magnetic flux density of which after storage for hours under the conditions of temperature of degree and rh is or more of the initial value thereof before storage under these conditions in binder\tthe magnetic recording medium is especially suitable for high density recording having sufficient sensitivity and excellent resistance\n",
      "\n",
      "\n",
      "Other Transportation Workers\n",
      "triac with gold diffused boundary\tdisclosed is bidirectional triode thyristor pellet that comprises two current conductive regions and gate region\tgold is diffused into the boundaries between the several regions to inhibit carrier migration thereacross and thus reduce turnoff time\talso disclosed is method of fabricating the subject thyristor pellet that permits glass passivation thereof if desired\n",
      "\n",
      "\n",
      "Engineers\n",
      "process for the fabrication of silicon transistors with high dc current gain\tmonocrystalline silicon wafer is prepared which has formed therein the usual emitter base and collector regions\tgroove is then formed to predetermined depth in the top surface of the silicon wafer so as to extend along the junction between the base and emitter regions\tsilicon oxide layer is formed over the wafer as by heating the same in an oxidative atmosphere and the wafer is succeedingly heated in hydrogenous atmosphere\tthe silicon oxide layer may be selectively photoetched away where the electrodes are to be formed for the emitter base and collector of the transistor\n",
      "\n",
      "\n",
      "Health Technologists and Technicians\n",
      "method for high temperature semiconductor processing\tmethod for high temperature processing in device fabrication wherein multi processing steps are performed in the absence of subjecting the unit to ambient conditions\n",
      "\n",
      "\n",
      "Metal Workers and Plastic Workers\n",
      "gallium phosphorus simultaneous diffusion process\tby protecting one surface of silicon element with an oxide layer while leaving another surface exposed it is possible to diffuse both gallium and phosphorus into the silicon element simultaneously in selective manner\tgallium will penetrate the oxide layer while phosphorus will not thereby forming conductivity type layer beneath the oxide layer\tat the same time both gallium and phosphorus will diffuse into the remaining surfaces of the element\thigher concentration of phosphorus than gallium will diffuse to all depths thereby forming an conductivity type layer adjacent the exposed surface of the silicon element\n",
      "\n",
      "\n",
      "Other Production Occupations\n",
      "explosive composition comprising hmx rdx or petn and high viscosity nitrocellulose binder plasticized with tmetn\tthis invention relates to self supporting water resistant explosive comptions composed essentially entirely of explosively active ingredients and methods for making same\tthe compositions consist essentially of particulate high explosive and high viscosity nitrocellulose binder plasticized with tmetn trimethylolethane trinitrate without the use of other plasticizers\n",
      "\n",
      "\n",
      "Textile, Apparel, and Furnishings Workers\n",
      "filament wound blade and method for manufacturing same\tthere is disclosed method of manufacturing filament wound blade including the steps of forming spar by winding plurality of resin impregnated filaments in side by side relationship between pair of spaced apart spools\tthe spools are held in their spaced apart orientation to maintain the filaments in their unidirectional orientation and flexible bondable bag fitted over the spar filaments and inflated to assume generally cylindrical configuration\tresin impregnated shell filaments are wound in helical pattern about such bag to form shell and the bag then deflated and placed in female mold defining the desired contour of such blade and such bag then re inflated to thereby cause the shell to assume such desired contour\tthe mold is then heated to first temperature to gel the resin impregnated filaments to second temperature to cure the spar and shell filaments and finally to third higher temperature to melt the bag and bond the spar and shell filaments together to thereby form an integral filament wound blade having unidirectional spar filaments for carrying centrifugal forces and encapsulated in helical would shell for carrying torsional loads\n",
      "\n",
      "\n",
      "Drafters, Engineering Technicians, and Mapping Technicians\n",
      "optical data processing system\tcircuit plane or board includes plurality of optical micro circuit device sockets with optical interface windows around the periphery of each socket\teach socket is adapted to receive wafer or like component which comprises an electrical micro circuit having optical input and output devices at the periphery of which register with the interface windows of the socket\tthe windows are optically interconnected with optical interface windows of other sockets or with optical terminals along the edge of the board by means of optical fibers embedded in potting material typically sandwiched between two thermally and electrically conductive plates\toperating power for the circuits is applied to the conductive plates to which the micro circuits are electrically coupled\tplurality of circuit boards so formed can be stacked on one another and optically coupled by means of light transmitting end connectors including optical fibers therein to form complete data processing system\n",
      "\n",
      "\n",
      "Other Production Occupations\n",
      "method of forming sharp bends in plastic faced flat panels\timproved forming method permits flat laminate panel comprising thin deep vacuum formed thermoplastic face surface member bonded to rigid backing member to be bent sharply so as to form the sides and front of cabinet for example in one integral piece\tthe bends are accommodated by removing material from the back of the panel so as to form grooves whose included angles are equal to the angle of bends desired\tthe grooves extend through the entire thickness of the backing member and portion of the plastic layer\tsmall bead of hot melt adhesive placed in the groove serves to soften the plastic so it can be bent without cracking\tthe panel sections adjacent the grooves are then brought into contact and immediately and permanently bonded together by the adhesive thus eliminating the need for additional bracing while the adhesive sets\n",
      "\n",
      "\n",
      "Other Production Occupations\n",
      "automatic decal transfer method and apparatus therefor\tdecalcomanias are automatically transferred from vacuumized porous transfer surface to an object to be decorated which is held in position to assure constant non slipping rolling contact with the decalcomania\tthe porous decalcomania holding surface coacts in transfer relation with the object to be decorated\n",
      "\n",
      "\n",
      "Other Installation, Maintenance, and Repair Occupations\n",
      "paper welding apparatus for bookbinding machinery\tthis invention bonds the paper pages of books without applying adhesive to the paper\tclamping jaws press the paper sheets of book together along the edges that are to be bound\tthe paper is weldable paper and the sheets bond to one another where they are clamped in contact and raised to welding temperature by heat of one or both of the clamping jaws radio frequency energy or otherwise\tthe temperature must be at least as high as the welding temperature of the paper and not so high that it will scorch or otherwise damage the paper\tthe clamping and welding apparatus are combined with other book making machinery and located along the course followed by the unfinished book at station where the welding step can be done automatically and with substantial saving in the usual labor required\n",
      "\n",
      "\n",
      "Other Production Occupations\n",
      "tread plates on mutually opposed endless belts clamp and move pack of boards horizontally lengthwise between electrodes for setting adhesive between the boards by dielectric heating\tthe tread plates are engaged by backing members spaced transversely of the length of the belt and the tread plates are connected by chain located between the backing members\tthe portions of the tread plates engageable with surface of the board pack are of suitable plastic to deter passage of radio frequency energy from an electrode to an electrically grounded portion of tread plate or to the chain\tair bags are inflatable to press at least one endless belt against the board pack or to move such belt relative to supporting means away from the board pack\tadjusting means for prepressing rollers ahead of the endless tread belts on one side of the board pack and adjusting means for the endless tread belt on the same side of the board pack are interconnected for synchronized adjustment\tplurality of pivoted pressure rollers spaced lengthwise of the path of movement of the board pack ahead of the endless belts for engaging the board edges are connected by chains to synchronize them for conjoint movement toward and away from the sides of the board pack\tsuch rollers can be profiled to hold the boards of the pack in relatively offset relationship if desired\talso the endless belts can be curved to bend the pack of boards lengthwise\n",
      "\n",
      "\n",
      "Other Production Occupations\n",
      "tire building stitcher assembly\tstitcher assembly for use in tire building apparatus which apparatus has main frame means and rotatable tire building drum means supported by the main frame means and in turn supporting tire carcass material along with partially applied tread cap and or sidewall components\tthe stitcher assembly includes pair of carrier units means for supporting and rotating the carrier units relative to the main frame means pair of arm assemblies one associated with each of the carrier units and having stitcher wheel means and means for supporting and linearly moving the arm assemblies within the carrier units\n",
      "\n",
      "\n",
      "Other Production Occupations\n",
      "method and apparatus to produce bonded loop pile carpet\tthe carpet machine is of the rotary type which uses cooperating blade members to form the yarn loops for bonding to backing sheet\tone set of the blade members is reciprocably mounted in the rotor of the machine\tthe other blade member is controlled to produce high and low loops\n",
      "\n",
      "\n",
      "Textile, Apparel, and Furnishings Workers\n",
      "apparatus and process for manufacturing non woven textile pile\tapparatus and process for manufacturing non woven textile pile fabric from plurality of pile forming strands having thermoplastic characteristics as follows\thollow strand extruder receives parallel textile strands therein extending longitudinally therethrough and shapes the strands into continuous mass of predetermined configuration for withdrawal therefrom\tplurality of relatively thin spaced apart successive compartment devices are positioned generally in axial alignment with the extruder and define successive spaced apart open sided interior areas of the same general configuration of the shaped mass of strands and collectively define longitudinally extending passageway for receiving and holding the continuous mass of strands therein after withdrawal from the extruder\tmechanisms preferably electrically heated hot wires are mounted for progressive movement transversely of the strands through the spaces between and on each side of the compartments for transversely melting cutting and fusing the mass of strands into plurality of individual transversely extending slices of the shaped predetermined configuration and having fusedfiber outer faces with strands extending therebetween which maintain the integrity of the slices for subsequent cutting between the fused faces to form layers of non woven pile fabric\n",
      "\n",
      "\n",
      "Metal Workers and Plastic Workers\n",
      "slide frame welding apparatus\tthe apparatus serves to weld together the two parts of slide frame which is made of plastics material and consists of base part and cover part and to align the welded frames on carrying and centering rods\tthe apparatus comprises two feed wells from which tracks extend to an ultrasonic welding horn and downwardly flaring two centering wells which succeed the ultrasonic welding horn and are provided each with plunger disposed above the track\n",
      "\n",
      "\n",
      "Other Production Occupations\n",
      "apparatus for producing suitcase frames\tin an apparatus comprising non circular rotary mandrel on which strip of paper or similar sheet material is wound to form multilayer tubular article the material entering the mandrel is subjected to pressure thereagainst by means of roller unit including at least two pairs of rollers\tboth pairs of rollers are independently and pivotably suspended in common carrier so that all of the rollers may continuously and independently apply surface pressure to the material being wound onto the mandrel\n",
      "\n",
      "\n",
      "Metal Workers and Plastic Workers\n",
      "the invention is simplified roller type apparatus for laminating articles in sheet form with transparent plastic laminating film\tit comprises heating station for heating the work and pair of pressure rolls for bonding the film to one or both sides of each article\tthe heating station comprises pair of vertically opposed flat plates that are separable to permit the work to be inserted between them and means for heating the plates so that they act as sources of heat for activating the adhesive layer of the laminating film\tin the preferred embodiment the lower plate is fixed and the upper plate is mounted for vertical movement relative to the lower plate\tthe two plates also act as guides for directing the heated work into the nip formed by the pressure rolls\n",
      "\n",
      "\n",
      "Construction Trades Workers\n",
      "mineral wool insulation product\tmineral wool insulation product containing major portion of mineral wool fibers conventional binder and predetermined quantities of an admixture of selected colloidal mineral clays to provide an insulation product having extremely low quantities of free silica and excellent physical properties\tthe colloidal clay admixture comprises selected quantities of kaolinite clays and bentonite clays\n",
      "\n",
      "\n",
      "Other Production Occupations\n",
      "screw thickener to be used for dewatering fibrous materials and being provided with stuffing means at the discharge end\tsaid screw thickener having hydrostatic superpressure of at least kpa and said stuffing means being actuated by pulling means\n",
      "\n",
      "\n",
      "Other Production Occupations\n",
      "dewatering and homogenizing apparatus\tdewatering and homogenizing apparatus comprising screw thickener at the discharge end provided with plug forming means actuated by pulling means\tat the thickener discharge end there is also mounted hood for receiving dewatered pulp and with supply means for homogenizing agent\n",
      "\n",
      "\n",
      "Other Production Occupations\n",
      "breast box having an adjustable lip in paper making machine\tthe lip at the outlet of the nozzle duct is mounted along with the adjusting mechanism in structural unit which is pivotally mounted on the casing\tthis allows the lip to be moved away from the permeable element to expose the nozzle duct and guide device for cleaning\n",
      "\n",
      "\n",
      "Metal Workers and Plastic Workers\n",
      "fuel element exchange system\tin nuclear reactor which is housed in round building and which has reactor pressure vessel in reactor pool fuel element storage pool of arcuate outline gate controlled channel interconnecting the two pools and an operating platform adjacent the pools there is provided fuel element exchange system which has first fuel element exchange gantry supported on column disposed in the center of the reactor building and on rail which is held by the building wall and which is situated above the level of the operating platform and second fuel element exchange gantry supported under the first gantry in such manner that the second gantry may freely pass under the first gantry\tthere is further provided fuel element box stripping machine at the storage pool immediately across from the channel within the operational range of both the first and the second gantries\n",
      "\n",
      "\n",
      "Life Scientists\n",
      "method for producing amino acids by culturing hydrogen oxidizing bacteria\tamino acids are produced by culturing hydrogen oxidizing bacteria of the genus arthrobacter brevibacterium and mycobacterium in an aqueous culture medium in the presence of oxygen hydrogen and carbon dioxide\n",
      "\n",
      "\n",
      "Metal Workers and Plastic Workers\n",
      "anodizing pretreatment for nickel plating\tthis invention relates to process of pretreating an aluminum surface for subsequent nickel plating to provide improved adhesion and corrosion resistance\tthe pretreatment process comprises subjecting the aluminum surface to anodizing in phosphoric acid electrolyte in such manner so that the voltage is increased to operating levels within seconds preferably in less than seconds\n",
      "\n",
      "\n",
      "Other Production Occupations\n",
      "microcracked chromium from bath using an organic sulfur compound\tthis invention covers the use of selected group of sulfo organic compounds as addition agents and particularly as microcracking agents in the electrodeposition of chromium from conventional chromium plating bath\tparticularly effective compound is thio diethanol which when added to fluosilicate bath gives fine microcracked deposit in and minutes\tat shorter plating times this compound improves the covering power of the bath\n",
      "\n",
      "\n",
      "Other Production Occupations\n",
      "method of producing tantalum capacitors\tmethod of producing tantalum capacitor wherein the tantalum anode of the capacitor is anodised in an electrolyte which is maintained at temperature of not greater than degree the value of the anodising current density being selected so that heat dissipation is minimised and the electrolyte concentration is maintained\n",
      "\n",
      "\n",
      "Construction Trades Workers\n",
      "anode for electrolytic processes\tan electrode for use in electrolytic processes comprises valve metal substrate coating thereon of conductive tin oxide containing doping amount of tungsten preferably up to about one mole percent of tungsten based on moles of tin and an outer coating of noble metal or noble metal oxide\n",
      "\n",
      "\n",
      "Metal Workers and Plastic Workers\n",
      "apparatus for or selective dissolution or detection of predetermined metals\tapparatus and methods are disclosed for the selective dissolution of predetermined metal from for example metal metal combination\tthe metal or the metal metal combination is made the working electrode of an electrolytic cell whose other electrode is electrolytically inert in the cell in use\tthe working electrode is held at substantially constant electrical potential relative to standard calomel electrode and this potential and the ph of the electrolyte are selected such that the electrical energy passing through the cell during selected time period is dependent on the amount of the predetermined metal electrolytically dissolved and substantially independent of any other metal which may be present\n",
      "\n",
      "\n",
      "Engineers\n",
      "method for treating sewage water\tsystem and apparatus for disinfecting sewage water and removing suspended solids therefrom by in situ treatment with chemical agents and gases each produced electrolytically comprising treatment chamber disinfecting and solids conveying means including at least one pair of electrodes disposed in the chamber solids removal means associated with the chamber source of aqueous alkali metal halide solution and optionally an ultraviolet light ray source and solids collection means\n",
      "\n",
      "\n",
      "Health Technologists and Technicians\n",
      "irradiation of hydrophilic and hydrophobic monomers to produce hydrophilic copolymers\thydrophilic polymer or copolymer is produced in an environment free from chemical initiator and preferably by irradiation of the starting materials particularly by gamma rays\tthe product polymer or copolymer is thus free from the residua of chemical initiators and the method permits the production of polymers and copolymers which are particularly suitable for use in contact with living tissue for example as contact lenses prosthetic devices surgical implants protective corneal fittings and protective membranes or bandages\n",
      "\n",
      "\n",
      "Other Production Occupations\n",
      "uv curing process employing flash photolysis\tprocess and apparatus for polymerizing oxygen inhibited ultraviolet photopolymerizable resin forming material such as film is shown\tthe apparatus comprises pair of\tlight sources one being flash photolysis source the other sustained photolysis source both disposed for irradiating said mass as it abides in an atmosphere such as air which tends to inhibit such polymerization\tthe process has two essential phases superficial phase and profound phase performed simultaneously or one in advance of and as preparation for the other\tthe profound phase is performed with sustained irradiation effective for substantially completely polymerizing said material except for inhibition of polymerization at the surface thereof due to said atmosphere\tthe superficial phase is performed with flash irradiation effective for forming tack free skin over said material\tsaid skin helps to protect the less fully polymerized material therebelow from oxygen inhibition when such superficial phase is performed first or simultaneously with the other phase\twhen such superficial phase is performed after the profound phase said superficial phase acts to complete polymerization of said material throughout its thickness\n",
      "\n",
      "\n",
      "Other Production Occupations\n",
      "selective removal of material by sputter etching\tduring the removal of material selectively by the sputter etching of the surface of semiconductor wafer the wafer is moved so as to produce continuously varying angle of incidence between the ion beam and the wafer surface\tthere is also provided field free region adjoining the surface of the wafer which is being etched\tas consequence the sputtering beam strikes the wafer surface over range of angles which results in more complete removal of material particularly material overlying stepped portions of the surface\n",
      "\n",
      "\n",
      "Engineers\n",
      "consumable electroplating anode comprises compacted mass of metal powder having an additive dispersed throughout the mass having an electrically conductive path through the mass and the mass having density in excess of about of theoretical density\tthe metal can be nickel cobalt iron copper cadmium or any other metal available in powder form and usable as consumable anode\tthe additive can be either solid or liquid and can be an anode activator and or bath component\tspecific structure wherein the additive is held by the metal in compressed state at abnormally high density is also disclosed\n",
      "\n",
      "\n",
      "Life, Physical, and Social Science Technicians\n",
      "apparatus for separating agglomerated particles within suspensions\tthis invention relates to method and apparatus for creating high shear stresses in particulate suspension prior to use of such suspension for imaging or inking\tthe method and apparatus in one environment function to stress thin layer of an electrophoretic suspension of particles in liquid carrier\tthe prestressed suspension is better suited than unstressed suspensions for preparing both monochromatic and polychromatic copies from originals by particle migration through the suspension when it is exposed to electromagnetic radiation in image configuration while in an electric field across the suspension between two electrodes\tthe method and apparatus is also used for printing inks in order to form prestressed uniform thin layer of the ink for application to the press\n",
      "\n",
      "\n",
      "Plant and System Operators\n",
      "serial reforming with zirconium promoted catalysts\tthe catalyst comprises group viii noble metal hydrogenation component and small amount of zirconium on solid catalytic support comprising porous refractory inorganic oxide\tthe zirconium may be present either in the elemental form or as compounds\tthe preferred hydrogenation component is platinum and the preferred porous refractory inorganic oxide is catalytically active alumina\tthe reforming process comprises contacting petroleum hydrocarbon stream in reforming zone under reforming conditions and in the presence of hydrogen with the above described catalyst\tin one embodiment the process comprises contacting partially reformed hydrocarbon stream in reforming zone under reforming conditions and in the presence of hydrogen with the above catalyst\tin another embodiment the process comprises contacting naphtha in reforming zone under reforming conditions and in the presence of hydrogen with the above catalyst\tin third embodiment the process comprises contacting the petroleum hydrocarbon stream in first reforming zone under reforming conditions and in the presence of hydrogen with first reforming catalyst to produce first reformate and subsequently contacting the first reformate in second reforming zone under reforming conditions and in the presence of hydrogen with second reforming catalyst said second reforming catalyst being the catalyst described in the preceding paragraph\n",
      "\n",
      "\n",
      "Other Production Occupations\n",
      "hydrocarbon conversion processes utilizing rejuvenated zeolite catalysts\tsiliceous zeolite catalysts comprising zeolitic mono and or divalent metal cations and non zeolitic group viii noble metal hydrogenating component supported thereon which catalysts have undergone damage by thermal and or hydrothermal stresses resulting in maldistribution of the metal components are rejuvenated in activity by first treatment with volumetric excess of aqueous ammonium hydroxide followed by second treatment with an extractive proportion of an aqueous ammonium salt solution\tthe combined treatments have twofold effect of bringing about desirable redistribution of the group viii noble metal and of exchanging out at least portion of undesired zeolitic mono and or divalent metal ions\thighly advantageous procedure for carrying out the rejuvenation involves simply neutralizing the ammonium hydroxide catalyst mixture from the first treatment with suitable acid to give the ammonium salt desired for the second treatment\thydrocarbon conversion processes utilizing the rejuvenated catalysts are also disclosed\n",
      "\n",
      "\n",
      "Vehicle and Mobile Equipment Mechanics, Installers, and Repairers\n",
      "supported iridium containing hydrocarbon conversion catalysts which are at least partially deactivated due to the deposition of carbonaceous residues thereon during contact with hydrocarbons are regenerated by contacting the catalyst with oxygen to burn at least portion of the carbonaceous residues from the catalyst contacting the carbonaceous residue depleted catalyst with an elemental halogen containing gas at temperature of less than about degree contacting the treated catalyst with hydrogen at elevated temperatures to reduce substantial portion of the iridium present in the catalyst to its metallic form and contacting the catalyst from step with an elemental halogen containing gas at temperature of at least about degree\tsteps and may be repeated in sequence at least one additional time to redisperse the iridium catalyst component to highly active high surface area state\n",
      "\n",
      "\n",
      "Life, Physical, and Social Science Technicians\n",
      "selective hydrogenation of aromatics and olefins in hydrocarbon fractions\thydrocarbon fractions boiling between degree\tand containing aromatics olefins and sulfur and nitrogen compounds are hydrogenated with platinum palladium catalyst to reduce the concentration of aromatics and olefins\tthe catalyst is prepared by saturating porous inert carrier preferably alumina with an aqueous acid solution of chloroplatinic acid and palladium ous chloride in specified mole ratio of platinum to palladium\tthe saturated carrier is subsequently dried calcined and reduced\n",
      "\n",
      "\n",
      "Architects, Surveyors, and Cartographers\n",
      "segmented screen body or bottom for classification screening and washing of fragmented hard stocks employs multiplicity of segmented elements constructed of elastomer or rubber material which when abutted and supported in predetermined relations define sieve apertures of predetermined size and extending if desired in staggered longitudinal rows\tthe structure further requires multiplicity of parallel transverse metal wires or equivalent elements which are embedded and extend through appropriate apertured portions of the elastic components\tin the preferred form the essential elements include shaped and shaped elements all of which may be obtained from identical integral moldings of shape and many of which are cut along transverse lines at the top to provide from the same moldings complementary shaped elements\n",
      "\n",
      "\n",
      "Other Construction and Related Workers\n",
      "process for purification of industrial waste waters from perchlorates and chlorates\tthe process of the present invention involves intermixing of industrial waste waters with household communal waste waters with subsequent biochemical reduction of perchlorates and chlorates contained in said waters under anaerobic conditions by means of strain of the microorganism vibrio dechloraticans cuznesove grown by way of successive inoculations on liquid nutrient medium containing sources of carbon nitrogen and phosphorus under anaerobic conditions in the presence of perchlorate as donor of oxygen said strain having the following morphological characteristics and physiological properties single cells size times mu\tmobile with one flagella of mu bent vibrio sporeless well coloured with fuchsione and non coloured with methylene blue gram negative grows only on liquid nutrient medium does not grow on meat pentone agar or agarized medium can be grown on an acetate under anaerobic conditions in the presence of perchlorate well grown on ethanol with reduction of perchlorate lactose starch and salts of oxalic and citric acids cannot be used for reduction of perchlorates glucose and sugars may be used but with diffuclties and only in the presence of small amount of an acetate reduces perchlorates and chlorates without dissolved gaseous oxygen in the presence of readily oxidized organic substances in minor amounts is capable of assimilating carbonic acid in proportion to the biomass growth in small amounts capable of reducing nitrates to nitrites\tan enzyme such as nitratereductase is present in cells reduces perchlorates to chlorides at rate of of perchlorate for days per of the biomass solids and may grow at concentration of ammonium perchlorate of about mg\n",
      "\n",
      "\n",
      "Other Production Occupations\n",
      "method of operating centrifugal filter and filter centrifuge operating according to this method\tmethod of operating filter centrifuge or centrifugal filter in which hydrostatic head is provided at the filtering surface so as to control liquid passage therethrough\tthe head may promote movement of the liquid through the filter layer or may induce reverse flow of liquid for backwashing or rinsing\tin addition hydrostatic balance may be provided at this surface through control of the head to limit passage of the liquid through the filter layer\tpreferably the head provides suction augmenting centrifugal filtration\n",
      "\n",
      "\n",
      "Other Production Occupations\n",
      "membrane support plates and fluid separating apparatus in which they are present\tmembrane support plate for fluid separating apparatus in which the support plate is made up of at least five flat elements secured together in face to face relationship\tcentral element has cut out slots to remove the permeate which has passed through the membranes intermediate elements have holes aligned with the slots and outer elements have central orifice which forms cell on each face of the plate porous packing elements being placed in the cells with the membranes on top of the packing elements\n",
      "\n",
      "\n",
      "Other Production Occupations\n",
      "device for the preparation of filtered coffee is described\tit has permanent filter disk which can be reused thus eliminating the need for frequent replacement\n",
      "\n",
      "\n",
      "Engineers\n",
      "process of displacing oil in subterranean reservoir employing aqueous surfactant systems\tin an aqueous anionic surfactant system the multivalent cation tolerance is improved by the presence of both solute which inhibits crystal growth and solute which forms crystalline precipitates of multivalent cations\n",
      "\n",
      "\n"
     ]
    }
   ],
   "source": [
    "print_preds(model, labels, lines[12000:12050])"
   ]
  },
  {
   "cell_type": "code",
   "execution_count": 87,
   "metadata": {
    "autoscroll": false,
    "ein.hycell": false,
    "ein.tags": "worksheet-0",
    "slideshow": {
     "slide_type": "-"
    }
   },
   "outputs": [],
   "source": [
    "l = pd.concat([lines[:50], lines[1000:1050], lines[10000:10050], lines[-50:]])"
   ]
  },
  {
   "cell_type": "code",
   "execution_count": null,
   "metadata": {
    "autoscroll": false,
    "ein.hycell": false,
    "ein.tags": "worksheet-0",
    "slideshow": {
     "slide_type": "-"
    }
   },
   "outputs": [],
   "source": [
    "from sklearn.neighbors import NearestNeighbors\n",
    "\n",
    "a = embed_docs('../abstracts-ss-100', '\\n'.join(l))\n",
    "\n",
    "nn = NearestNeighbors()\n",
    "nn.fit(a)"
   ]
  },
  {
   "cell_type": "code",
   "execution_count": 99,
   "metadata": {
    "autoscroll": false,
    "ein.hycell": false,
    "ein.tags": "worksheet-0",
    "slideshow": {
     "slide_type": "-"
    }
   },
   "outputs": [],
   "source": [
    "def print_neighbors(nn, a, i):\n",
    "    _, idxs = nn.kneighbors(a[i].reshape(1,-1), n_neighbors = 5)\n",
    "    for i in idxs:\n",
    "        print(l.values[i])"
   ]
  },
  {
   "cell_type": "code",
   "execution_count": 108,
   "metadata": {
    "autoscroll": false,
    "ein.hycell": false,
    "ein.tags": "worksheet-0",
    "slideshow": {
     "slide_type": "-"
    }
   },
   "outputs": [
    {
     "name": "stdout",
     "output_type": "stream",
     "text": [
      "['multi way cache expansion circuit architecture\\tan expandable set tag cache circuit for use with data cache memory comprises tag memory divided into first set and second set for storing under single address location first and second tag fields representative of first and second data respectively\\tthe tag memory also stores first and second signals representative of which of the sets is the least recently used\\tcomparator is responsive to tag field of an address representative of requested data as well as to first tag field output from the tag memory for producing an output signal indicative of match therebetween\\tsecond comparator is responsive to the same tag field of the address and to second tag field output from the tag memory for producing an output signal indicative of match therebetween\\tfirst logic gate is responsive to the first and second comparators for producing an output signal indicative of the availability of the requested data in the data cache memory\\tsecond logic gate is responsive to the first logic gate and an external signal\\tfirst write driver is enabled by the output of the first logic gate and is responsive to the output of the first comparator for controlling the state of the first signal\\tsecond write driver is enabled by the output of the second logic gate and is responsive the to external signal for controlling the state of the second signal'\n",
      " 'combined cache with main memory and control method thereof\\tcombined cache with main memory and control method thereof which can be configured with various structures of cache by only adding minimized control circuit in order to be used as main memory\\tthe way cache memory system includes cache memory blocks receiving tag field and an offset field of an address bus logic or element for performing logic or operation with way hit signals from each cache memory block and for generating cache hit signal when way hit signal is produced in one of the cache memory blocks and first selection element for outputting data to data bus which results from the cache memory blocks in response to the way hit signal'\n",
      " 'processor and method of fetching an instruction that select one of plurality of decoded fetch addresses generated in parallel to form memory request\\tprocessor and method of fetching an instruction from memory are disclosed\\taccording to the method of the present invention plurality of target addresses are determined utilizing plurality of previously fetched instructions and sequential address is determined utilizing last of the plurality of previously fetched instructions\\tconcurrently with the determination of the target addresses and the sequential address select signal specifying one of the plurality of target addresses or the sequential address is generated\\tthe select signal is used to select one of the plurality of target addresses or the sequential address as memory request address\\tthe memory request address is then transmitted from the processor to the memory so that the memory will supply at least one instruction to the processor\\tby generating the target addresses and sequential address concurrently with the generation of the selection signal instruction fetch latency is reduced'\n",
      " 'cache coherency protocol with tagged state for modified values\\tcache coherency protocol uses tagged coherency state to track responsibility for writing modified value back to system memory allowing intervention of the value without immediately writing it back to system memory thus increasing memory bandwidth\\tthe tagged state can migrate across the caches horizontally when assigned to cache line that has most recently loaded the modified value\\thistorical states relating to the tagged state may further be used\\tthe invention may also be applied to multi processor computer system having clustered processing units such that the tagged state can be applied to one of the cache lines in each group of caches that support separate processing unit clusters\\tpriorities are assigned to different cache states including the tagged state for responding to request to access corresponding memory block\\tany tagged intervention response can be forwarded only to selected caches that could be affected by the intervention response using cross bars\\tthe tagged protocol can be combined with existing and new cache coherency protocols\\tthe invention further contemplates independent optimization of cache operations using the tagged state'\n",
      " 'write combining device for uncacheable stores\\tsystem for write combining uncacheable stores includes memory order buffer which receives first and second stores and data cache address and control which receives the first and second stores from the memory order buffer\\tone of the memory order buffer and the data cache address and control determines whether the first and second stores are uncacheable and whether the first and second stores are contiguous in memory\\tif those conditions are satisfied the data cache address and control write combines the first and second stores before committing them to memory\\tthe system may also apply additional conditions to determine whether the stores should be write combined for example requiring minimum size for each store']\n"
     ]
    }
   ],
   "source": [
    "print_neighbors(nn, a, 150)"
   ]
  }
 ],
 "metadata": {
  "kernelspec": {
   "display_name": "Python 3",
   "language": "python",
   "name": "python3"
  },
  "language_info": {
   "codemirror_mode": {
    "name": "ipython",
    "version": 3
   },
   "file_extension": ".py",
   "mimetype": "text/x-python",
   "name": "python",
   "nbconvert_exporter": "python",
   "pygments_lexer": "ipython3",
   "version": "3.6.9"
  },
  "name": "patent-classify.ipynb"
 },
 "nbformat": 4,
 "nbformat_minor": 2
}
