{
 "cells": [
  {
   "cell_type": "code",
   "execution_count": 2,
   "metadata": {},
   "outputs": [],
   "source": [
    "import json\n",
    "from itertools import islice\n",
    "from json import JSONDecodeError\n",
    "\n",
    "def loads(l):\n",
    "    try:\n",
    "        return json.loads(l)\n",
    "    except JSONDecodeError:\n",
    "        return { 'id': None }\n",
    "\n",
    "with open('../data/abstracts/abstracts-minus') as f:\n",
    "    dat = ((i, loads(l)) for i,l in enumerate(f) if i != 0)\n",
    "    dat = ((d['id'], d.get('abstract')) for i,d in dat)\n",
    "    dat = list(dat)"
   ]
  },
  {
   "cell_type": "code",
   "execution_count": 6,
   "metadata": {},
   "outputs": [],
   "source": [
    "with open('../data/abstracts/abstracts.txt', 'w') as f:\n",
    "    for i,d in dat:\n",
    "        if d:\n",
    "            f.write(d + '\\n')"
   ]
  }
 ],
 "metadata": {
  "kernelspec": {
   "display_name": "Python 3",
   "language": "python",
   "name": "python3"
  },
  "language_info": {
   "codemirror_mode": {
    "name": "ipython",
    "version": 3
   },
   "file_extension": ".py",
   "mimetype": "text/x-python",
   "name": "python",
   "nbconvert_exporter": "python",
   "pygments_lexer": "ipython3",
   "version": "3.6.9"
  }
 },
 "nbformat": 4,
 "nbformat_minor": 4
}
